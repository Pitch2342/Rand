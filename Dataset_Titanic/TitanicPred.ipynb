{
  "nbformat": 4,
  "nbformat_minor": 0,
  "metadata": {
    "colab": {
      "name": "TitanicPred.ipynb",
      "provenance": [],
      "collapsed_sections": [],
      "include_colab_link": true
    },
    "kernelspec": {
      "name": "python3",
      "display_name": "Python 3"
    }
  },
  "cells": [
    {
      "cell_type": "markdown",
      "metadata": {
        "id": "view-in-github",
        "colab_type": "text"
      },
      "source": [
        "<a href=\"https://colab.research.google.com/github/Pitch2342/Rand/blob/master/Dataset_Titanic/TitanicPred.ipynb\" target=\"_parent\"><img src=\"https://colab.research.google.com/assets/colab-badge.svg\" alt=\"Open In Colab\"/></a>"
      ]
    },
    {
      "cell_type": "markdown",
      "metadata": {
        "id": "_RcKL-EmppHW",
        "colab_type": "text"
      },
      "source": [
        "# Titatic dataset\n",
        "\n",
        "importing libraries"
      ]
    },
    {
      "cell_type": "code",
      "metadata": {
        "id": "JQ17MR2FmVTs",
        "colab_type": "code",
        "colab": {}
      },
      "source": [
        "import numpy as np\n",
        "import pandas as pd\n",
        "import math\n",
        "import random"
      ],
      "execution_count": 0,
      "outputs": []
    },
    {
      "cell_type": "markdown",
      "metadata": {
        "id": "-Pbx8GaLp1ay",
        "colab_type": "text"
      },
      "source": [
        "Getting csv"
      ]
    },
    {
      "cell_type": "code",
      "metadata": {
        "id": "-8Ehxuo6pmHn",
        "colab_type": "code",
        "outputId": "7c59b408-1bc0-4abb-ed51-404f9d85bb32",
        "colab": {
          "base_uri": "https://localhost:8080/",
          "height": 206
        }
      },
      "source": [
        "data_train = pd.read_csv('https://raw.githubusercontent.com/Pitch2342/Rand/master/Dataset_Titanic/train.csv')\n",
        "data_test = pd.read_csv('https://raw.githubusercontent.com/Pitch2342/Rand/master/Dataset_Titanic/test.csv')\n",
        "data_train.head()"
      ],
      "execution_count": 2,
      "outputs": [
        {
          "output_type": "execute_result",
          "data": {
            "text/html": [
              "<div>\n",
              "<style scoped>\n",
              "    .dataframe tbody tr th:only-of-type {\n",
              "        vertical-align: middle;\n",
              "    }\n",
              "\n",
              "    .dataframe tbody tr th {\n",
              "        vertical-align: top;\n",
              "    }\n",
              "\n",
              "    .dataframe thead th {\n",
              "        text-align: right;\n",
              "    }\n",
              "</style>\n",
              "<table border=\"1\" class=\"dataframe\">\n",
              "  <thead>\n",
              "    <tr style=\"text-align: right;\">\n",
              "      <th></th>\n",
              "      <th>PassengerId</th>\n",
              "      <th>Survived</th>\n",
              "      <th>Pclass</th>\n",
              "      <th>Name</th>\n",
              "      <th>Sex</th>\n",
              "      <th>Age</th>\n",
              "      <th>SibSp</th>\n",
              "      <th>Parch</th>\n",
              "      <th>Ticket</th>\n",
              "      <th>Fare</th>\n",
              "      <th>Cabin</th>\n",
              "      <th>Embarked</th>\n",
              "    </tr>\n",
              "  </thead>\n",
              "  <tbody>\n",
              "    <tr>\n",
              "      <th>0</th>\n",
              "      <td>1</td>\n",
              "      <td>0</td>\n",
              "      <td>3</td>\n",
              "      <td>Braund, Mr. Owen Harris</td>\n",
              "      <td>male</td>\n",
              "      <td>22.0</td>\n",
              "      <td>1</td>\n",
              "      <td>0</td>\n",
              "      <td>A/5 21171</td>\n",
              "      <td>7.2500</td>\n",
              "      <td>NaN</td>\n",
              "      <td>S</td>\n",
              "    </tr>\n",
              "    <tr>\n",
              "      <th>1</th>\n",
              "      <td>2</td>\n",
              "      <td>1</td>\n",
              "      <td>1</td>\n",
              "      <td>Cumings, Mrs. John Bradley (Florence Briggs Th...</td>\n",
              "      <td>female</td>\n",
              "      <td>38.0</td>\n",
              "      <td>1</td>\n",
              "      <td>0</td>\n",
              "      <td>PC 17599</td>\n",
              "      <td>71.2833</td>\n",
              "      <td>C85</td>\n",
              "      <td>C</td>\n",
              "    </tr>\n",
              "    <tr>\n",
              "      <th>2</th>\n",
              "      <td>3</td>\n",
              "      <td>1</td>\n",
              "      <td>3</td>\n",
              "      <td>Heikkinen, Miss. Laina</td>\n",
              "      <td>female</td>\n",
              "      <td>26.0</td>\n",
              "      <td>0</td>\n",
              "      <td>0</td>\n",
              "      <td>STON/O2. 3101282</td>\n",
              "      <td>7.9250</td>\n",
              "      <td>NaN</td>\n",
              "      <td>S</td>\n",
              "    </tr>\n",
              "    <tr>\n",
              "      <th>3</th>\n",
              "      <td>4</td>\n",
              "      <td>1</td>\n",
              "      <td>1</td>\n",
              "      <td>Futrelle, Mrs. Jacques Heath (Lily May Peel)</td>\n",
              "      <td>female</td>\n",
              "      <td>35.0</td>\n",
              "      <td>1</td>\n",
              "      <td>0</td>\n",
              "      <td>113803</td>\n",
              "      <td>53.1000</td>\n",
              "      <td>C123</td>\n",
              "      <td>S</td>\n",
              "    </tr>\n",
              "    <tr>\n",
              "      <th>4</th>\n",
              "      <td>5</td>\n",
              "      <td>0</td>\n",
              "      <td>3</td>\n",
              "      <td>Allen, Mr. William Henry</td>\n",
              "      <td>male</td>\n",
              "      <td>35.0</td>\n",
              "      <td>0</td>\n",
              "      <td>0</td>\n",
              "      <td>373450</td>\n",
              "      <td>8.0500</td>\n",
              "      <td>NaN</td>\n",
              "      <td>S</td>\n",
              "    </tr>\n",
              "  </tbody>\n",
              "</table>\n",
              "</div>"
            ],
            "text/plain": [
              "   PassengerId  Survived  Pclass  ...     Fare Cabin  Embarked\n",
              "0            1         0       3  ...   7.2500   NaN         S\n",
              "1            2         1       1  ...  71.2833   C85         C\n",
              "2            3         1       3  ...   7.9250   NaN         S\n",
              "3            4         1       1  ...  53.1000  C123         S\n",
              "4            5         0       3  ...   8.0500   NaN         S\n",
              "\n",
              "[5 rows x 12 columns]"
            ]
          },
          "metadata": {
            "tags": []
          },
          "execution_count": 2
        }
      ]
    },
    {
      "cell_type": "markdown",
      "metadata": {
        "id": "tqSlUtmZqR1M",
        "colab_type": "text"
      },
      "source": [
        "ML begins"
      ]
    },
    {
      "cell_type": "code",
      "metadata": {
        "id": "QWL8UGJmqOYm",
        "colab_type": "code",
        "outputId": "1272915e-e90a-4111-edeb-77fb0741e278",
        "colab": {
          "base_uri": "https://localhost:8080/",
          "height": 253
        }
      },
      "source": [
        "def get_x(data):\n",
        "    features = data[['Pclass', 'Sex', 'Age', 'Fare']].copy()\n",
        "    \n",
        "    features['RelativesCount'] = data['SibSp'] + data['Parch']\n",
        "    \n",
        "    # impute age using median\n",
        "    age_std = data_train['Age'].std()\n",
        "    age_median = data_train['Age'].median()\n",
        "    features['Age'] = features[['Age']].fillna(method='ffill').astype(int)\n",
        "\n",
        "    # impute fare using median\n",
        "    fare_impute_val = data_train['Fare'].median()\n",
        "    features['Fare'] = data[['Fare']].fillna(method='ffill').astype(int)\n",
        "    \n",
        "#     # impute embarked as most mode\n",
        "#     embarked_impute_val = data_train.Embarked.mode()\n",
        "#     features.Embarked = features.Embarked.fillna(value=embarked_impute_val)\n",
        "\n",
        "#     features['RelativesCount'] = features.SibSp + features.Parch\n",
        "    \n",
        "    # one hot encodes categorical features\n",
        "    features = pd.get_dummies(features, columns=['Pclass', 'Sex'])\n",
        "    \n",
        "    return features\n",
        "\n",
        "get_x(data_train).info()"
      ],
      "execution_count": 3,
      "outputs": [
        {
          "output_type": "stream",
          "text": [
            "<class 'pandas.core.frame.DataFrame'>\n",
            "RangeIndex: 891 entries, 0 to 890\n",
            "Data columns (total 8 columns):\n",
            "Age               891 non-null int64\n",
            "Fare              891 non-null int64\n",
            "RelativesCount    891 non-null int64\n",
            "Pclass_1          891 non-null uint8\n",
            "Pclass_2          891 non-null uint8\n",
            "Pclass_3          891 non-null uint8\n",
            "Sex_female        891 non-null uint8\n",
            "Sex_male          891 non-null uint8\n",
            "dtypes: int64(3), uint8(5)\n",
            "memory usage: 25.4 KB\n"
          ],
          "name": "stdout"
        }
      ]
    },
    {
      "cell_type": "code",
      "metadata": {
        "id": "MI8QAcbtqhib",
        "colab_type": "code",
        "outputId": "2511cb97-4524-4eab-b16e-b7c29dba2f95",
        "colab": {
          "base_uri": "https://localhost:8080/",
          "height": 217
        }
      },
      "source": [
        "from sklearn.linear_model import LogisticRegression\n",
        "from sklearn.ensemble import RandomForestClassifier\n",
        "from sklearn.model_selection import train_test_split\n",
        "from sklearn.metrics import roc_auc_score\n",
        "from sklearn.model_selection import GridSearchCV\n",
        "from sklearn.ensemble import GradientBoostingClassifier\n",
        "\n",
        "X_train, X_test, y_train, y_test = train_test_split(\n",
        "    get_x(data_train), \n",
        "    data_train['Survived'], \n",
        "    test_size=0.33, \n",
        "    random_state=42\n",
        ")\n",
        "\n",
        "# Fit model\n",
        "# logistic reg\n",
        "# params = {\n",
        "#     'penalty': ['l1', 'l2']\n",
        "# }\n",
        "# model = GridSearchCV(estimator=LogisticRegression(solver='liblinear', random_state=18), param_grid=params, cv=5)\n",
        "\n",
        "# random forest\n",
        "params = {\n",
        "    'n_estimators': [100]\n",
        "#     'min_samples_leaf': [1, 2, 3],\n",
        "#     'min_samples_split': [ 2, 3, 4]\n",
        "}\n",
        "model = GridSearchCV(estimator=RandomForestClassifier(random_state=18), param_grid=params, cv=5)\n",
        "\n",
        "# params = {\n",
        "#     'learning_rate': [0.2, 0.4, 0.6, 0.8, 1],\n",
        "#     'loss': ['deviance', 'exponential']\n",
        "# }\n",
        "# model = GridSearchCV(estimator=GradientBoostingClassifier(random_state=18), param_grid=params, cv=5)\n",
        "\n",
        "model.fit(X_train, y_train)\n",
        "\n",
        "# Test fit\n",
        "y_pred_prob = model.predict_proba(X_test)[:,1]\n",
        "print(\"ROAUC: {:0.4f}\".format(roc_auc_score(y_test, y_pred_prob)))\n",
        "print(\"Score: {:0.4f}\".format(model.score(X_test, y_test)))\n",
        "print(pd.DataFrame(data={'feature': X_test.columns, 'importance': model.best_estimator_.feature_importances_}).sort_values(by=['importance'], ascending=False))"
      ],
      "execution_count": 4,
      "outputs": [
        {
          "output_type": "stream",
          "text": [
            "ROAUC: 0.8765\n",
            "Score: 0.8034\n",
            "          feature  importance\n",
            "0             Age    0.318779\n",
            "1            Fare    0.215761\n",
            "7        Sex_male    0.142583\n",
            "6      Sex_female    0.135394\n",
            "2  RelativesCount    0.080417\n",
            "5        Pclass_3    0.060232\n",
            "3        Pclass_1    0.024519\n",
            "4        Pclass_2    0.022314\n"
          ],
          "name": "stdout"
        }
      ]
    },
    {
      "cell_type": "code",
      "metadata": {
        "id": "O9nNONrAqmdg",
        "colab_type": "code",
        "outputId": "62356132-0ad5-426b-acf8-6b935f0e804a",
        "colab": {
          "base_uri": "https://localhost:8080/",
          "height": 206
        }
      },
      "source": [
        "# TODO should I re-train with all training data? Found retraining on all data lowered score\n",
        "# Fit model with all training data\n",
        "model.fit(\n",
        "    get_x(data_train), \n",
        "    data_train['Survived']\n",
        ")\n",
        "\n",
        "# Predict survivors\n",
        "test_y = model.predict(get_x(data_test))\n",
        "\n",
        "# Write output\n",
        "output = data_test[['PassengerId']].copy()\n",
        "output['Survived'] = test_y\n",
        "output.head()"
      ],
      "execution_count": 11,
      "outputs": [
        {
          "output_type": "execute_result",
          "data": {
            "text/html": [
              "<div>\n",
              "<style scoped>\n",
              "    .dataframe tbody tr th:only-of-type {\n",
              "        vertical-align: middle;\n",
              "    }\n",
              "\n",
              "    .dataframe tbody tr th {\n",
              "        vertical-align: top;\n",
              "    }\n",
              "\n",
              "    .dataframe thead th {\n",
              "        text-align: right;\n",
              "    }\n",
              "</style>\n",
              "<table border=\"1\" class=\"dataframe\">\n",
              "  <thead>\n",
              "    <tr style=\"text-align: right;\">\n",
              "      <th></th>\n",
              "      <th>PassengerId</th>\n",
              "      <th>Survived</th>\n",
              "    </tr>\n",
              "  </thead>\n",
              "  <tbody>\n",
              "    <tr>\n",
              "      <th>0</th>\n",
              "      <td>892</td>\n",
              "      <td>0</td>\n",
              "    </tr>\n",
              "    <tr>\n",
              "      <th>1</th>\n",
              "      <td>893</td>\n",
              "      <td>0</td>\n",
              "    </tr>\n",
              "    <tr>\n",
              "      <th>2</th>\n",
              "      <td>894</td>\n",
              "      <td>1</td>\n",
              "    </tr>\n",
              "    <tr>\n",
              "      <th>3</th>\n",
              "      <td>895</td>\n",
              "      <td>1</td>\n",
              "    </tr>\n",
              "    <tr>\n",
              "      <th>4</th>\n",
              "      <td>896</td>\n",
              "      <td>1</td>\n",
              "    </tr>\n",
              "  </tbody>\n",
              "</table>\n",
              "</div>"
            ],
            "text/plain": [
              "   PassengerId  Survived\n",
              "0          892         0\n",
              "1          893         0\n",
              "2          894         1\n",
              "3          895         1\n",
              "4          896         1"
            ]
          },
          "metadata": {
            "tags": []
          },
          "execution_count": 11
        }
      ]
    },
    {
      "cell_type": "markdown",
      "metadata": {
        "id": "sYzRqdQFq-Ds",
        "colab_type": "text"
      },
      "source": [
        "Compare with actual data. import that first"
      ]
    },
    {
      "cell_type": "code",
      "metadata": {
        "id": "uy75WApzq0Zp",
        "colab_type": "code",
        "outputId": "ec2a1843-c194-4c6e-e4f2-77b2e4b470a7",
        "colab": {
          "base_uri": "https://localhost:8080/",
          "height": 424
        }
      },
      "source": [
        "data_result = pd.read_csv('https://raw.githubusercontent.com/Pitch2342/Rand/master/Dataset_Titanic/gender_submission.csv')\n",
        "data_result"
      ],
      "execution_count": 6,
      "outputs": [
        {
          "output_type": "execute_result",
          "data": {
            "text/html": [
              "<div>\n",
              "<style scoped>\n",
              "    .dataframe tbody tr th:only-of-type {\n",
              "        vertical-align: middle;\n",
              "    }\n",
              "\n",
              "    .dataframe tbody tr th {\n",
              "        vertical-align: top;\n",
              "    }\n",
              "\n",
              "    .dataframe thead th {\n",
              "        text-align: right;\n",
              "    }\n",
              "</style>\n",
              "<table border=\"1\" class=\"dataframe\">\n",
              "  <thead>\n",
              "    <tr style=\"text-align: right;\">\n",
              "      <th></th>\n",
              "      <th>PassengerId</th>\n",
              "      <th>Survived</th>\n",
              "    </tr>\n",
              "  </thead>\n",
              "  <tbody>\n",
              "    <tr>\n",
              "      <th>0</th>\n",
              "      <td>892</td>\n",
              "      <td>0</td>\n",
              "    </tr>\n",
              "    <tr>\n",
              "      <th>1</th>\n",
              "      <td>893</td>\n",
              "      <td>1</td>\n",
              "    </tr>\n",
              "    <tr>\n",
              "      <th>2</th>\n",
              "      <td>894</td>\n",
              "      <td>0</td>\n",
              "    </tr>\n",
              "    <tr>\n",
              "      <th>3</th>\n",
              "      <td>895</td>\n",
              "      <td>0</td>\n",
              "    </tr>\n",
              "    <tr>\n",
              "      <th>4</th>\n",
              "      <td>896</td>\n",
              "      <td>1</td>\n",
              "    </tr>\n",
              "    <tr>\n",
              "      <th>...</th>\n",
              "      <td>...</td>\n",
              "      <td>...</td>\n",
              "    </tr>\n",
              "    <tr>\n",
              "      <th>413</th>\n",
              "      <td>1305</td>\n",
              "      <td>0</td>\n",
              "    </tr>\n",
              "    <tr>\n",
              "      <th>414</th>\n",
              "      <td>1306</td>\n",
              "      <td>1</td>\n",
              "    </tr>\n",
              "    <tr>\n",
              "      <th>415</th>\n",
              "      <td>1307</td>\n",
              "      <td>0</td>\n",
              "    </tr>\n",
              "    <tr>\n",
              "      <th>416</th>\n",
              "      <td>1308</td>\n",
              "      <td>0</td>\n",
              "    </tr>\n",
              "    <tr>\n",
              "      <th>417</th>\n",
              "      <td>1309</td>\n",
              "      <td>0</td>\n",
              "    </tr>\n",
              "  </tbody>\n",
              "</table>\n",
              "<p>418 rows × 2 columns</p>\n",
              "</div>"
            ],
            "text/plain": [
              "     PassengerId  Survived\n",
              "0            892         0\n",
              "1            893         1\n",
              "2            894         0\n",
              "3            895         0\n",
              "4            896         1\n",
              "..           ...       ...\n",
              "413         1305         0\n",
              "414         1306         1\n",
              "415         1307         0\n",
              "416         1308         0\n",
              "417         1309         0\n",
              "\n",
              "[418 rows x 2 columns]"
            ]
          },
          "metadata": {
            "tags": []
          },
          "execution_count": 6
        }
      ]
    },
    {
      "cell_type": "code",
      "metadata": {
        "id": "lcd6l5C-rTkA",
        "colab_type": "code",
        "outputId": "cc322ca7-223a-46e6-d9bf-3ec9d818341f",
        "colab": {
          "base_uri": "https://localhost:8080/",
          "height": 424
        }
      },
      "source": [
        "output.where(output.values==data_result.values)"
      ],
      "execution_count": 7,
      "outputs": [
        {
          "output_type": "execute_result",
          "data": {
            "text/html": [
              "<div>\n",
              "<style scoped>\n",
              "    .dataframe tbody tr th:only-of-type {\n",
              "        vertical-align: middle;\n",
              "    }\n",
              "\n",
              "    .dataframe tbody tr th {\n",
              "        vertical-align: top;\n",
              "    }\n",
              "\n",
              "    .dataframe thead th {\n",
              "        text-align: right;\n",
              "    }\n",
              "</style>\n",
              "<table border=\"1\" class=\"dataframe\">\n",
              "  <thead>\n",
              "    <tr style=\"text-align: right;\">\n",
              "      <th></th>\n",
              "      <th>PassengerId</th>\n",
              "      <th>Survived</th>\n",
              "    </tr>\n",
              "  </thead>\n",
              "  <tbody>\n",
              "    <tr>\n",
              "      <th>0</th>\n",
              "      <td>892</td>\n",
              "      <td>0.0</td>\n",
              "    </tr>\n",
              "    <tr>\n",
              "      <th>1</th>\n",
              "      <td>893</td>\n",
              "      <td>NaN</td>\n",
              "    </tr>\n",
              "    <tr>\n",
              "      <th>2</th>\n",
              "      <td>894</td>\n",
              "      <td>NaN</td>\n",
              "    </tr>\n",
              "    <tr>\n",
              "      <th>3</th>\n",
              "      <td>895</td>\n",
              "      <td>NaN</td>\n",
              "    </tr>\n",
              "    <tr>\n",
              "      <th>4</th>\n",
              "      <td>896</td>\n",
              "      <td>1.0</td>\n",
              "    </tr>\n",
              "    <tr>\n",
              "      <th>...</th>\n",
              "      <td>...</td>\n",
              "      <td>...</td>\n",
              "    </tr>\n",
              "    <tr>\n",
              "      <th>413</th>\n",
              "      <td>1305</td>\n",
              "      <td>0.0</td>\n",
              "    </tr>\n",
              "    <tr>\n",
              "      <th>414</th>\n",
              "      <td>1306</td>\n",
              "      <td>1.0</td>\n",
              "    </tr>\n",
              "    <tr>\n",
              "      <th>415</th>\n",
              "      <td>1307</td>\n",
              "      <td>0.0</td>\n",
              "    </tr>\n",
              "    <tr>\n",
              "      <th>416</th>\n",
              "      <td>1308</td>\n",
              "      <td>0.0</td>\n",
              "    </tr>\n",
              "    <tr>\n",
              "      <th>417</th>\n",
              "      <td>1309</td>\n",
              "      <td>0.0</td>\n",
              "    </tr>\n",
              "  </tbody>\n",
              "</table>\n",
              "<p>418 rows × 2 columns</p>\n",
              "</div>"
            ],
            "text/plain": [
              "     PassengerId  Survived\n",
              "0            892       0.0\n",
              "1            893       NaN\n",
              "2            894       NaN\n",
              "3            895       NaN\n",
              "4            896       1.0\n",
              "..           ...       ...\n",
              "413         1305       0.0\n",
              "414         1306       1.0\n",
              "415         1307       0.0\n",
              "416         1308       0.0\n",
              "417         1309       0.0\n",
              "\n",
              "[418 rows x 2 columns]"
            ]
          },
          "metadata": {
            "tags": []
          },
          "execution_count": 7
        }
      ]
    },
    {
      "cell_type": "code",
      "metadata": {
        "id": "zhH5bbdUr_v5",
        "colab_type": "code",
        "colab": {
          "base_uri": "https://localhost:8080/",
          "height": 544
        },
        "outputId": "93dbb73b-0662-42ea-d36a-fd1c6f3d6ffe"
      },
      "source": [
        "def getAndPred ( PassengerId , Pclass , Name , Sex , Age , SibSp , Parch , Ticket , Fare , Cabin , Embarked = 'S' ):\n",
        "  data_test.loc[1] = [PassengerId , Pclass , Name , Sex , Age , SibSp , Parch , Ticket , Fare , Cabin , Embarked ]\n",
        "  A = data_test\n",
        "  print(A)\n",
        "  print(get_x(A))\n",
        "  \"\"\"Result = model.predict(get_x(A))\n",
        "  print(Result)\"\"\"\n",
        "  # Predict survivors\n",
        "  test_y = model.predict(get_x(A))\n",
        "  #print(A.ix[1])\n",
        "  if test_y[1] == 1:\n",
        "    print(\"Survived\")\n",
        "  else:\n",
        "    print(\"Dead\")\n",
        "getAndPred(1,1,\"Valencia DiCortez\",\"female\",3,5,5,'C1',10.23,'C10','Q')"
      ],
      "execution_count": 22,
      "outputs": [
        {
          "output_type": "stream",
          "text": [
            "     PassengerId  Pclass  ... Cabin Embarked\n",
            "0            892       3  ...   NaN        Q\n",
            "1              1       1  ...   C10        Q\n",
            "2            894       2  ...   NaN        Q\n",
            "3            895       3  ...   NaN        S\n",
            "4            896       3  ...   NaN        S\n",
            "..           ...     ...  ...   ...      ...\n",
            "413         1305       3  ...   NaN        S\n",
            "414         1306       1  ...  C105        C\n",
            "415         1307       3  ...   NaN        S\n",
            "416         1308       3  ...   NaN        S\n",
            "417         1309       3  ...   NaN        C\n",
            "\n",
            "[418 rows x 11 columns]\n",
            "     Age  Fare  RelativesCount  ...  Pclass_3  Sex_female  Sex_male\n",
            "0     34     7               0  ...         1           0         1\n",
            "1      3    10              10  ...         0           1         0\n",
            "2     62     9               0  ...         0           0         1\n",
            "3     27     8               0  ...         1           0         1\n",
            "4     22    12               2  ...         1           1         0\n",
            "..   ...   ...             ...  ...       ...         ...       ...\n",
            "413   28     8               0  ...         1           0         1\n",
            "414   39   108               0  ...         0           1         0\n",
            "415   38     7               0  ...         1           0         1\n",
            "416   38     8               0  ...         1           0         1\n",
            "417   38    22               2  ...         1           0         1\n",
            "\n",
            "[418 rows x 8 columns]\n",
            "Survived\n"
          ],
          "name": "stdout"
        }
      ]
    },
    {
      "cell_type": "code",
      "metadata": {
        "id": "MaupDmNLAmzj",
        "colab_type": "code",
        "colab": {}
      },
      "source": [
        ""
      ],
      "execution_count": 0,
      "outputs": []
    }
  ]
}