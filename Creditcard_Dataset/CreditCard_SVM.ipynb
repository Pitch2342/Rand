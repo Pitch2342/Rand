{
  "nbformat": 4,
  "nbformat_minor": 0,
  "metadata": {
    "anaconda-cloud": {},
    "kernelspec": {
      "language": "python",
      "display_name": "Python 3",
      "name": "python3"
    },
    "language_info": {
      "name": "python",
      "nbconvert_exporter": "python",
      "file_extension": ".py",
      "pygments_lexer": "ipython3",
      "version": "3.6.3",
      "codemirror_mode": {
        "name": "ipython",
        "version": 3
      },
      "mimetype": "text/x-python"
    },
    "colab": {
      "name": "Credit card dataset_ SVM Classification.ipynb",
      "provenance": [],
      "collapsed_sections": [],
      "include_colab_link": true
    }
  },
  "cells": [
    {
      "cell_type": "markdown",
      "metadata": {
        "id": "view-in-github",
        "colab_type": "text"
      },
      "source": [
        "<a href=\"https://colab.research.google.com/github/Pitch2342/Rand/blob/master/Creditcard_Dataset/CreditCard_SVM.ipynb\" target=\"_parent\"><img src=\"https://colab.research.google.com/assets/colab-badge.svg\" alt=\"Open In Colab\"/></a>"
      ]
    },
    {
      "cell_type": "code",
      "metadata": {
        "_cell_guid": "95f30dd3-7b08-4087-b156-5bf3250ce742",
        "_uuid": "dc31e50ac68836610ff16246bbda63d7ae6db49b",
        "id": "zL1EUcAvajbO",
        "colab_type": "code",
        "colab": {}
      },
      "source": [
        "import pandas as pd \n",
        "import numpy as np\n",
        "from sklearn import preprocessing\n",
        "from sklearn.metrics import confusion_matrix\n",
        "from sklearn import svm\n",
        "import itertools\n",
        "import matplotlib.pyplot as plt\n",
        "import matplotlib.mlab as mlab\n",
        "import seaborn\n",
        "%matplotlib inline"
      ],
      "execution_count": 0,
      "outputs": []
    },
    {
      "cell_type": "markdown",
      "metadata": {
        "_cell_guid": "ae7d0f5e-f323-46f6-a454-a2a8065af693",
        "_uuid": "dda60fcd5cb9953205c5ae716fcdf7cd5682f9eb",
        "id": "A1GJr0xsajbu",
        "colab_type": "text"
      },
      "source": [
        "# Data Visualization"
      ]
    },
    {
      "cell_type": "code",
      "metadata": {
        "_cell_guid": "b3cd20ab-f13e-4083-9c36-9291414694c2",
        "_uuid": "232bc475856a4f5e92083e1757242020100ee284",
        "id": "Gy0GAFTyajbj",
        "colab_type": "code",
        "colab": {
          "base_uri": "https://localhost:8080/",
          "height": 226
        },
        "outputId": "9cda2919-ba93-43ba-e454-948a9d0180b4"
      },
      "source": [
        "data = pd.read_csv('https://raw.githubusercontent.com/Pitch2342/Rand/master/Creditcard_Dataset/creditcard.csv')\n",
        "df = pd.DataFrame(data) \n",
        "df.head()"
      ],
      "execution_count": 5,
      "outputs": [
        {
          "output_type": "execute_result",
          "data": {
            "text/html": [
              "<div>\n",
              "<style scoped>\n",
              "    .dataframe tbody tr th:only-of-type {\n",
              "        vertical-align: middle;\n",
              "    }\n",
              "\n",
              "    .dataframe tbody tr th {\n",
              "        vertical-align: top;\n",
              "    }\n",
              "\n",
              "    .dataframe thead th {\n",
              "        text-align: right;\n",
              "    }\n",
              "</style>\n",
              "<table border=\"1\" class=\"dataframe\">\n",
              "  <thead>\n",
              "    <tr style=\"text-align: right;\">\n",
              "      <th></th>\n",
              "      <th>Time</th>\n",
              "      <th>V1</th>\n",
              "      <th>V2</th>\n",
              "      <th>V3</th>\n",
              "      <th>V4</th>\n",
              "      <th>V5</th>\n",
              "      <th>V6</th>\n",
              "      <th>V7</th>\n",
              "      <th>V8</th>\n",
              "      <th>V9</th>\n",
              "      <th>V10</th>\n",
              "      <th>V11</th>\n",
              "      <th>V12</th>\n",
              "      <th>V13</th>\n",
              "      <th>V14</th>\n",
              "      <th>V15</th>\n",
              "      <th>V16</th>\n",
              "      <th>V17</th>\n",
              "      <th>V18</th>\n",
              "      <th>V19</th>\n",
              "      <th>V20</th>\n",
              "      <th>V21</th>\n",
              "      <th>V22</th>\n",
              "      <th>V23</th>\n",
              "      <th>V24</th>\n",
              "      <th>V25</th>\n",
              "      <th>V26</th>\n",
              "      <th>V27</th>\n",
              "      <th>V28</th>\n",
              "      <th>Amount</th>\n",
              "      <th>Class</th>\n",
              "    </tr>\n",
              "  </thead>\n",
              "  <tbody>\n",
              "    <tr>\n",
              "      <th>0</th>\n",
              "      <td>0</td>\n",
              "      <td>-1.359807</td>\n",
              "      <td>-0.072781</td>\n",
              "      <td>2.536347</td>\n",
              "      <td>1.378155</td>\n",
              "      <td>-0.338321</td>\n",
              "      <td>0.462388</td>\n",
              "      <td>0.239599</td>\n",
              "      <td>0.098698</td>\n",
              "      <td>0.363787</td>\n",
              "      <td>0.090794</td>\n",
              "      <td>-0.551600</td>\n",
              "      <td>-0.617801</td>\n",
              "      <td>-0.991390</td>\n",
              "      <td>-0.311169</td>\n",
              "      <td>1.468177</td>\n",
              "      <td>-0.470401</td>\n",
              "      <td>0.207971</td>\n",
              "      <td>0.025791</td>\n",
              "      <td>0.403993</td>\n",
              "      <td>0.251412</td>\n",
              "      <td>-0.018307</td>\n",
              "      <td>0.277838</td>\n",
              "      <td>-0.110474</td>\n",
              "      <td>0.066928</td>\n",
              "      <td>0.128539</td>\n",
              "      <td>-0.189115</td>\n",
              "      <td>0.133558</td>\n",
              "      <td>-0.021053</td>\n",
              "      <td>149.62</td>\n",
              "      <td>0</td>\n",
              "    </tr>\n",
              "    <tr>\n",
              "      <th>1</th>\n",
              "      <td>0</td>\n",
              "      <td>1.191857</td>\n",
              "      <td>0.266151</td>\n",
              "      <td>0.166480</td>\n",
              "      <td>0.448154</td>\n",
              "      <td>0.060018</td>\n",
              "      <td>-0.082361</td>\n",
              "      <td>-0.078803</td>\n",
              "      <td>0.085102</td>\n",
              "      <td>-0.255425</td>\n",
              "      <td>-0.166974</td>\n",
              "      <td>1.612727</td>\n",
              "      <td>1.065235</td>\n",
              "      <td>0.489095</td>\n",
              "      <td>-0.143772</td>\n",
              "      <td>0.635558</td>\n",
              "      <td>0.463917</td>\n",
              "      <td>-0.114805</td>\n",
              "      <td>-0.183361</td>\n",
              "      <td>-0.145783</td>\n",
              "      <td>-0.069083</td>\n",
              "      <td>-0.225775</td>\n",
              "      <td>-0.638672</td>\n",
              "      <td>0.101288</td>\n",
              "      <td>-0.339846</td>\n",
              "      <td>0.167170</td>\n",
              "      <td>0.125895</td>\n",
              "      <td>-0.008983</td>\n",
              "      <td>0.014724</td>\n",
              "      <td>2.69</td>\n",
              "      <td>0</td>\n",
              "    </tr>\n",
              "    <tr>\n",
              "      <th>2</th>\n",
              "      <td>1</td>\n",
              "      <td>-1.358354</td>\n",
              "      <td>-1.340163</td>\n",
              "      <td>1.773209</td>\n",
              "      <td>0.379780</td>\n",
              "      <td>-0.503198</td>\n",
              "      <td>1.800499</td>\n",
              "      <td>0.791461</td>\n",
              "      <td>0.247676</td>\n",
              "      <td>-1.514654</td>\n",
              "      <td>0.207643</td>\n",
              "      <td>0.624501</td>\n",
              "      <td>0.066084</td>\n",
              "      <td>0.717293</td>\n",
              "      <td>-0.165946</td>\n",
              "      <td>2.345865</td>\n",
              "      <td>-2.890083</td>\n",
              "      <td>1.109969</td>\n",
              "      <td>-0.121359</td>\n",
              "      <td>-2.261857</td>\n",
              "      <td>0.524980</td>\n",
              "      <td>0.247998</td>\n",
              "      <td>0.771679</td>\n",
              "      <td>0.909412</td>\n",
              "      <td>-0.689281</td>\n",
              "      <td>-0.327642</td>\n",
              "      <td>-0.139097</td>\n",
              "      <td>-0.055353</td>\n",
              "      <td>-0.059752</td>\n",
              "      <td>378.66</td>\n",
              "      <td>0</td>\n",
              "    </tr>\n",
              "    <tr>\n",
              "      <th>3</th>\n",
              "      <td>1</td>\n",
              "      <td>-0.966272</td>\n",
              "      <td>-0.185226</td>\n",
              "      <td>1.792993</td>\n",
              "      <td>-0.863291</td>\n",
              "      <td>-0.010309</td>\n",
              "      <td>1.247203</td>\n",
              "      <td>0.237609</td>\n",
              "      <td>0.377436</td>\n",
              "      <td>-1.387024</td>\n",
              "      <td>-0.054952</td>\n",
              "      <td>-0.226487</td>\n",
              "      <td>0.178228</td>\n",
              "      <td>0.507757</td>\n",
              "      <td>-0.287924</td>\n",
              "      <td>-0.631418</td>\n",
              "      <td>-1.059647</td>\n",
              "      <td>-0.684093</td>\n",
              "      <td>1.965775</td>\n",
              "      <td>-1.232622</td>\n",
              "      <td>-0.208038</td>\n",
              "      <td>-0.108300</td>\n",
              "      <td>0.005274</td>\n",
              "      <td>-0.190321</td>\n",
              "      <td>-1.175575</td>\n",
              "      <td>0.647376</td>\n",
              "      <td>-0.221929</td>\n",
              "      <td>0.062723</td>\n",
              "      <td>0.061458</td>\n",
              "      <td>123.50</td>\n",
              "      <td>0</td>\n",
              "    </tr>\n",
              "    <tr>\n",
              "      <th>4</th>\n",
              "      <td>2</td>\n",
              "      <td>-1.158233</td>\n",
              "      <td>0.877737</td>\n",
              "      <td>1.548718</td>\n",
              "      <td>0.403034</td>\n",
              "      <td>-0.407193</td>\n",
              "      <td>0.095921</td>\n",
              "      <td>0.592941</td>\n",
              "      <td>-0.270533</td>\n",
              "      <td>0.817739</td>\n",
              "      <td>0.753074</td>\n",
              "      <td>-0.822843</td>\n",
              "      <td>0.538196</td>\n",
              "      <td>1.345852</td>\n",
              "      <td>-1.119670</td>\n",
              "      <td>0.175121</td>\n",
              "      <td>-0.451449</td>\n",
              "      <td>-0.237033</td>\n",
              "      <td>-0.038195</td>\n",
              "      <td>0.803487</td>\n",
              "      <td>0.408542</td>\n",
              "      <td>-0.009431</td>\n",
              "      <td>0.798278</td>\n",
              "      <td>-0.137458</td>\n",
              "      <td>0.141267</td>\n",
              "      <td>-0.206010</td>\n",
              "      <td>0.502292</td>\n",
              "      <td>0.219422</td>\n",
              "      <td>0.215153</td>\n",
              "      <td>69.99</td>\n",
              "      <td>0</td>\n",
              "    </tr>\n",
              "  </tbody>\n",
              "</table>\n",
              "</div>"
            ],
            "text/plain": [
              "   Time        V1        V2        V3  ...       V27       V28  Amount  Class\n",
              "0     0 -1.359807 -0.072781  2.536347  ...  0.133558 -0.021053  149.62      0\n",
              "1     0  1.191857  0.266151  0.166480  ... -0.008983  0.014724    2.69      0\n",
              "2     1 -1.358354 -1.340163  1.773209  ... -0.055353 -0.059752  378.66      0\n",
              "3     1 -0.966272 -0.185226  1.792993  ...  0.062723  0.061458  123.50      0\n",
              "4     2 -1.158233  0.877737  1.548718  ...  0.219422  0.215153   69.99      0\n",
              "\n",
              "[5 rows x 31 columns]"
            ]
          },
          "metadata": {
            "tags": []
          },
          "execution_count": 5
        }
      ]
    },
    {
      "cell_type": "code",
      "metadata": {
        "_cell_guid": "6aade7ce-2b87-4cd0-a998-3a54ac14d4df",
        "_uuid": "4eafc2bb6228637b51ba4e1c97ded7456440cd0f",
        "id": "oF6_DDadajb2",
        "colab_type": "code",
        "colab": {
          "base_uri": "https://localhost:8080/",
          "height": 320
        },
        "outputId": "ec3c7428-8ad6-4a42-f406-3864d1ab99a2"
      },
      "source": [
        "df.describe()"
      ],
      "execution_count": 6,
      "outputs": [
        {
          "output_type": "execute_result",
          "data": {
            "text/html": [
              "<div>\n",
              "<style scoped>\n",
              "    .dataframe tbody tr th:only-of-type {\n",
              "        vertical-align: middle;\n",
              "    }\n",
              "\n",
              "    .dataframe tbody tr th {\n",
              "        vertical-align: top;\n",
              "    }\n",
              "\n",
              "    .dataframe thead th {\n",
              "        text-align: right;\n",
              "    }\n",
              "</style>\n",
              "<table border=\"1\" class=\"dataframe\">\n",
              "  <thead>\n",
              "    <tr style=\"text-align: right;\">\n",
              "      <th></th>\n",
              "      <th>Time</th>\n",
              "      <th>V1</th>\n",
              "      <th>V2</th>\n",
              "      <th>V3</th>\n",
              "      <th>V4</th>\n",
              "      <th>V5</th>\n",
              "      <th>V6</th>\n",
              "      <th>V7</th>\n",
              "      <th>V8</th>\n",
              "      <th>V9</th>\n",
              "      <th>V10</th>\n",
              "      <th>V11</th>\n",
              "      <th>V12</th>\n",
              "      <th>V13</th>\n",
              "      <th>V14</th>\n",
              "      <th>V15</th>\n",
              "      <th>V16</th>\n",
              "      <th>V17</th>\n",
              "      <th>V18</th>\n",
              "      <th>V19</th>\n",
              "      <th>V20</th>\n",
              "      <th>V21</th>\n",
              "      <th>V22</th>\n",
              "      <th>V23</th>\n",
              "      <th>V24</th>\n",
              "      <th>V25</th>\n",
              "      <th>V26</th>\n",
              "      <th>V27</th>\n",
              "      <th>V28</th>\n",
              "      <th>Amount</th>\n",
              "      <th>Class</th>\n",
              "    </tr>\n",
              "  </thead>\n",
              "  <tbody>\n",
              "    <tr>\n",
              "      <th>count</th>\n",
              "      <td>39871.000000</td>\n",
              "      <td>39871.000000</td>\n",
              "      <td>39871.000000</td>\n",
              "      <td>39871.000000</td>\n",
              "      <td>39871.000000</td>\n",
              "      <td>39871.000000</td>\n",
              "      <td>39871.000000</td>\n",
              "      <td>39871.000000</td>\n",
              "      <td>39871.000000</td>\n",
              "      <td>39871.000000</td>\n",
              "      <td>39871.000000</td>\n",
              "      <td>39871.000000</td>\n",
              "      <td>39871.000000</td>\n",
              "      <td>39871.000000</td>\n",
              "      <td>39871.000000</td>\n",
              "      <td>39871.000000</td>\n",
              "      <td>39871.000000</td>\n",
              "      <td>39871.000000</td>\n",
              "      <td>39871.000000</td>\n",
              "      <td>39871.000000</td>\n",
              "      <td>39871.000000</td>\n",
              "      <td>39871.000000</td>\n",
              "      <td>39871.000000</td>\n",
              "      <td>39871.000000</td>\n",
              "      <td>39871.000000</td>\n",
              "      <td>39871.000000</td>\n",
              "      <td>39871.000000</td>\n",
              "      <td>39871.000000</td>\n",
              "      <td>39871.000000</td>\n",
              "      <td>39871.000000</td>\n",
              "      <td>39871.000000</td>\n",
              "    </tr>\n",
              "    <tr>\n",
              "      <th>mean</th>\n",
              "      <td>25563.730029</td>\n",
              "      <td>-0.215998</td>\n",
              "      <td>0.049904</td>\n",
              "      <td>0.713759</td>\n",
              "      <td>0.188819</td>\n",
              "      <td>-0.230579</td>\n",
              "      <td>0.099744</td>\n",
              "      <td>-0.112945</td>\n",
              "      <td>0.042158</td>\n",
              "      <td>0.212012</td>\n",
              "      <td>-0.070782</td>\n",
              "      <td>0.422049</td>\n",
              "      <td>-0.463784</td>\n",
              "      <td>0.246243</td>\n",
              "      <td>0.237248</td>\n",
              "      <td>0.097603</td>\n",
              "      <td>-0.001688</td>\n",
              "      <td>0.150029</td>\n",
              "      <td>-0.090586</td>\n",
              "      <td>-0.032649</td>\n",
              "      <td>0.047497</td>\n",
              "      <td>-0.029867</td>\n",
              "      <td>-0.112347</td>\n",
              "      <td>-0.039741</td>\n",
              "      <td>0.007147</td>\n",
              "      <td>0.136186</td>\n",
              "      <td>0.023117</td>\n",
              "      <td>0.007920</td>\n",
              "      <td>0.004979</td>\n",
              "      <td>87.485322</td>\n",
              "      <td>0.002608</td>\n",
              "    </tr>\n",
              "    <tr>\n",
              "      <th>std</th>\n",
              "      <td>12634.501268</td>\n",
              "      <td>1.852734</td>\n",
              "      <td>1.590331</td>\n",
              "      <td>1.505620</td>\n",
              "      <td>1.401291</td>\n",
              "      <td>1.389342</td>\n",
              "      <td>1.310760</td>\n",
              "      <td>1.246442</td>\n",
              "      <td>1.220980</td>\n",
              "      <td>1.225436</td>\n",
              "      <td>1.125341</td>\n",
              "      <td>1.128646</td>\n",
              "      <td>1.381565</td>\n",
              "      <td>1.144976</td>\n",
              "      <td>1.133996</td>\n",
              "      <td>0.955461</td>\n",
              "      <td>0.926140</td>\n",
              "      <td>1.039761</td>\n",
              "      <td>0.855720</td>\n",
              "      <td>0.816808</td>\n",
              "      <td>0.689215</td>\n",
              "      <td>0.750467</td>\n",
              "      <td>0.637837</td>\n",
              "      <td>0.553228</td>\n",
              "      <td>0.593130</td>\n",
              "      <td>0.436324</td>\n",
              "      <td>0.504771</td>\n",
              "      <td>0.387134</td>\n",
              "      <td>0.342904</td>\n",
              "      <td>234.363900</td>\n",
              "      <td>0.051007</td>\n",
              "    </tr>\n",
              "    <tr>\n",
              "      <th>min</th>\n",
              "      <td>0.000000</td>\n",
              "      <td>-56.407510</td>\n",
              "      <td>-72.715728</td>\n",
              "      <td>-31.103685</td>\n",
              "      <td>-5.172595</td>\n",
              "      <td>-42.147898</td>\n",
              "      <td>-26.160506</td>\n",
              "      <td>-26.548144</td>\n",
              "      <td>-41.484823</td>\n",
              "      <td>-7.175097</td>\n",
              "      <td>-14.166795</td>\n",
              "      <td>-4.049895</td>\n",
              "      <td>-17.769143</td>\n",
              "      <td>-3.808724</td>\n",
              "      <td>-19.214325</td>\n",
              "      <td>-4.152532</td>\n",
              "      <td>-12.227189</td>\n",
              "      <td>-18.587366</td>\n",
              "      <td>-8.061208</td>\n",
              "      <td>-4.932733</td>\n",
              "      <td>-13.694584</td>\n",
              "      <td>-20.262054</td>\n",
              "      <td>-8.593642</td>\n",
              "      <td>-26.751119</td>\n",
              "      <td>-2.836627</td>\n",
              "      <td>-7.495741</td>\n",
              "      <td>-1.438650</td>\n",
              "      <td>-8.567638</td>\n",
              "      <td>-9.617915</td>\n",
              "      <td>0.000000</td>\n",
              "      <td>0.000000</td>\n",
              "    </tr>\n",
              "    <tr>\n",
              "      <th>25%</th>\n",
              "      <td>14885.500000</td>\n",
              "      <td>-0.967258</td>\n",
              "      <td>-0.525545</td>\n",
              "      <td>0.234005</td>\n",
              "      <td>-0.718804</td>\n",
              "      <td>-0.835861</td>\n",
              "      <td>-0.638775</td>\n",
              "      <td>-0.597343</td>\n",
              "      <td>-0.152337</td>\n",
              "      <td>-0.557966</td>\n",
              "      <td>-0.551766</td>\n",
              "      <td>-0.394026</td>\n",
              "      <td>-1.324935</td>\n",
              "      <td>-0.526065</td>\n",
              "      <td>-0.262428</td>\n",
              "      <td>-0.463257</td>\n",
              "      <td>-0.490069</td>\n",
              "      <td>-0.344658</td>\n",
              "      <td>-0.564921</td>\n",
              "      <td>-0.524152</td>\n",
              "      <td>-0.162695</td>\n",
              "      <td>-0.236681</td>\n",
              "      <td>-0.534697</td>\n",
              "      <td>-0.178539</td>\n",
              "      <td>-0.325923</td>\n",
              "      <td>-0.128094</td>\n",
              "      <td>-0.330419</td>\n",
              "      <td>-0.063233</td>\n",
              "      <td>-0.006941</td>\n",
              "      <td>7.330000</td>\n",
              "      <td>0.000000</td>\n",
              "    </tr>\n",
              "    <tr>\n",
              "      <th>50%</th>\n",
              "      <td>30659.000000</td>\n",
              "      <td>-0.234716</td>\n",
              "      <td>0.101338</td>\n",
              "      <td>0.817805</td>\n",
              "      <td>0.184189</td>\n",
              "      <td>-0.268034</td>\n",
              "      <td>-0.158780</td>\n",
              "      <td>-0.073240</td>\n",
              "      <td>0.048535</td>\n",
              "      <td>0.089422</td>\n",
              "      <td>-0.130308</td>\n",
              "      <td>0.394180</td>\n",
              "      <td>-0.114911</td>\n",
              "      <td>0.170429</td>\n",
              "      <td>0.197583</td>\n",
              "      <td>0.216714</td>\n",
              "      <td>0.063277</td>\n",
              "      <td>0.088800</td>\n",
              "      <td>-0.073029</td>\n",
              "      <td>-0.032202</td>\n",
              "      <td>-0.022162</td>\n",
              "      <td>-0.077114</td>\n",
              "      <td>-0.086995</td>\n",
              "      <td>-0.051560</td>\n",
              "      <td>0.060826</td>\n",
              "      <td>0.176002</td>\n",
              "      <td>-0.063462</td>\n",
              "      <td>0.008412</td>\n",
              "      <td>0.021498</td>\n",
              "      <td>23.510000</td>\n",
              "      <td>0.000000</td>\n",
              "    </tr>\n",
              "    <tr>\n",
              "      <th>75%</th>\n",
              "      <td>35687.500000</td>\n",
              "      <td>1.160648</td>\n",
              "      <td>0.744033</td>\n",
              "      <td>1.447562</td>\n",
              "      <td>1.070165</td>\n",
              "      <td>0.296366</td>\n",
              "      <td>0.486252</td>\n",
              "      <td>0.434200</td>\n",
              "      <td>0.315397</td>\n",
              "      <td>0.928708</td>\n",
              "      <td>0.378880</td>\n",
              "      <td>1.208745</td>\n",
              "      <td>0.490756</td>\n",
              "      <td>0.988979</td>\n",
              "      <td>0.815555</td>\n",
              "      <td>0.776789</td>\n",
              "      <td>0.557280</td>\n",
              "      <td>0.579248</td>\n",
              "      <td>0.403313</td>\n",
              "      <td>0.476123</td>\n",
              "      <td>0.169222</td>\n",
              "      <td>0.100313</td>\n",
              "      <td>0.299004</td>\n",
              "      <td>0.076971</td>\n",
              "      <td>0.399423</td>\n",
              "      <td>0.420585</td>\n",
              "      <td>0.303982</td>\n",
              "      <td>0.085200</td>\n",
              "      <td>0.076054</td>\n",
              "      <td>79.000000</td>\n",
              "      <td>0.000000</td>\n",
              "    </tr>\n",
              "    <tr>\n",
              "      <th>max</th>\n",
              "      <td>40000.000000</td>\n",
              "      <td>1.960497</td>\n",
              "      <td>16.713389</td>\n",
              "      <td>4.101716</td>\n",
              "      <td>16.491217</td>\n",
              "      <td>34.801666</td>\n",
              "      <td>22.529298</td>\n",
              "      <td>36.677268</td>\n",
              "      <td>20.007208</td>\n",
              "      <td>10.392889</td>\n",
              "      <td>12.701538</td>\n",
              "      <td>12.018913</td>\n",
              "      <td>4.846452</td>\n",
              "      <td>4.465413</td>\n",
              "      <td>7.692209</td>\n",
              "      <td>5.784514</td>\n",
              "      <td>6.098529</td>\n",
              "      <td>9.253526</td>\n",
              "      <td>4.295648</td>\n",
              "      <td>4.555359</td>\n",
              "      <td>17.281859</td>\n",
              "      <td>22.614889</td>\n",
              "      <td>5.805795</td>\n",
              "      <td>17.297845</td>\n",
              "      <td>4.014444</td>\n",
              "      <td>5.525093</td>\n",
              "      <td>3.517346</td>\n",
              "      <td>11.135740</td>\n",
              "      <td>33.847808</td>\n",
              "      <td>7879.420000</td>\n",
              "      <td>1.000000</td>\n",
              "    </tr>\n",
              "  </tbody>\n",
              "</table>\n",
              "</div>"
            ],
            "text/plain": [
              "               Time            V1  ...        Amount         Class\n",
              "count  39871.000000  39871.000000  ...  39871.000000  39871.000000\n",
              "mean   25563.730029     -0.215998  ...     87.485322      0.002608\n",
              "std    12634.501268      1.852734  ...    234.363900      0.051007\n",
              "min        0.000000    -56.407510  ...      0.000000      0.000000\n",
              "25%    14885.500000     -0.967258  ...      7.330000      0.000000\n",
              "50%    30659.000000     -0.234716  ...     23.510000      0.000000\n",
              "75%    35687.500000      1.160648  ...     79.000000      0.000000\n",
              "max    40000.000000      1.960497  ...   7879.420000      1.000000\n",
              "\n",
              "[8 rows x 31 columns]"
            ]
          },
          "metadata": {
            "tags": []
          },
          "execution_count": 6
        }
      ]
    },
    {
      "cell_type": "code",
      "metadata": {
        "_cell_guid": "aaf455b3-f3a1-4316-99c6-cbd4c0a8b33d",
        "_uuid": "346c8874f9118fcbcea8f028804179eed54eca69",
        "id": "UNhYKaH5ajb8",
        "colab_type": "code",
        "colab": {
          "base_uri": "https://localhost:8080/",
          "height": 621
        },
        "outputId": "08946c1b-2532-4f05-af49-5c1598391c1b"
      },
      "source": [
        "df_fraud = df[df['Class'] == 1] #Fraud Data\n",
        "plt.figure(figsize=(15,10))\n",
        "plt.scatter(df_fraud['Time'], df_fraud['Amount']) #Fraud by time\n",
        "plt.title('Scratter plot amount fraud')\n",
        "plt.xlabel('Time')\n",
        "plt.ylabel('Amount')\n",
        "plt.xlim([0,150000])\n",
        "plt.ylim([0,2000])\n",
        "plt.show()"
      ],
      "execution_count": 11,
      "outputs": [
        {
          "output_type": "display_data",
          "data": {
            "image/png": "[encoded data removed]",
            "text/plain": [
              "<Figure size 1080x720 with 1 Axes>"
            ]
          },
          "metadata": {
            "tags": []
          }
        }
      ]
    },
    {
      "cell_type": "markdown",
      "metadata": {
        "_cell_guid": "970cef6c-01b8-4d61-a3b5-38c3398f9c6f",
        "_uuid": "61c0ec8f7ae47ca9514c2cf3d1e729ba7c528c4e",
        "id": "noY7Cd87ajcA",
        "colab_type": "text"
      },
      "source": [
        "# Observations from graph\n",
        "    ==>Time does not affect frauds\n",
        "    ==>Most frauds are of small amounts "
      ]
    },
    {
      "cell_type": "code",
      "metadata": {
        "_cell_guid": "8b77e909-ab26-4783-8005-bf591d66cf5b",
        "_uuid": "9a273b886643735328b0666edf70d12807804fe1",
        "id": "6owwnm_sajcB",
        "colab_type": "code",
        "colab": {
          "base_uri": "https://localhost:8080/",
          "height": 35
        },
        "outputId": "739c753b-ecc7-43e0-d84b-8fc9c5039d32"
      },
      "source": [
        "nb_big_fraud = df_fraud[df_fraud['Amount'] > 1000].shape[0] #frauds over 1000\n",
        "print('There are only '+ str(nb_big_fraud) + ' frauds where the amount was bigger than 1000 over ' + str(df_fraud.shape[0]) + ' frauds')"
      ],
      "execution_count": 12,
      "outputs": [
        {
          "output_type": "stream",
          "text": [
            "There are only 2 frauds where the amount was bigger than 1000 over 104 frauds\n"
          ],
          "name": "stdout"
        }
      ]
    },
    {
      "cell_type": "markdown",
      "metadata": {
        "_cell_guid": "43c05bc7-c327-4120-9a4b-9b319457a0b5",
        "_uuid": "c5b9104e688e7bcee494645969a7c8360aff515e",
        "id": "a9e9CeUcajcF",
        "colab_type": "text"
      },
      "source": [
        "# Data is unbalanced"
      ]
    },
    {
      "cell_type": "code",
      "metadata": {
        "_cell_guid": "02332e68-9fec-48c5-89cd-06ce360f2e9c",
        "_uuid": "bd071ed3ed6dcf625adc45196f615d62cd462ab1",
        "id": "7wErgNyZajcH",
        "colab_type": "code",
        "colab": {
          "base_uri": "https://localhost:8080/",
          "height": 35
        },
        "outputId": "15e28896-9630-47b4-a766-ff686e59cc54"
      },
      "source": [
        "number_fraud = len(data[data.Class == 1])\n",
        "number_no_fraud = len(data[data.Class == 0])\n",
        "print('There are only '+ str(number_fraud) + ' frauds in the original dataset, even though there are ' + str(number_no_fraud) +' no frauds in the dataset.')"
      ],
      "execution_count": 13,
      "outputs": [
        {
          "output_type": "stream",
          "text": [
            "There are only 104 frauds in the original dataset, even though there are 39767 no frauds in the dataset.\n"
          ],
          "name": "stdout"
        }
      ]
    },
    {
      "cell_type": "markdown",
      "metadata": {
        "_cell_guid": "a78cfc34-d5a4-45b7-abc1-c70dec7e1c9b",
        "_uuid": "0fa59cb4bb66a0c62d3edb6eb2650d64e19fc113",
        "id": "EDCMhb80ajcO",
        "colab_type": "text"
      },
      "source": [
        "# Unbalanced data\n",
        "if data is unbalanced. It may skew classifiers. To prevent this, we create a new dataset as an equal mix of classifiers. This is called **Undersampling**"
      ]
    },
    {
      "cell_type": "code",
      "metadata": {
        "_cell_guid": "32763345-e2ac-455b-9265-50bcc304da07",
        "_uuid": "5139011572ad26820d148f408fb3d839899331b5",
        "id": "EWM4Dti6ajcP",
        "colab_type": "code",
        "colab": {
          "base_uri": "https://localhost:8080/",
          "height": 35
        },
        "outputId": "f5a1f485-e389-4b0a-98a0-bc191d3f4e9c"
      },
      "source": [
        "print(\"The accuracy of the classifier then would be : \"+ str((39767-104)/39767)+ \" which is the number of good classification over the number of tuple to classify\")"
      ],
      "execution_count": 19,
      "outputs": [
        {
          "output_type": "stream",
          "text": [
            "The accuracy of the classifier then would be : 0.9973847662634848 which is the number of good classification over the number of tuple to classify\n"
          ],
          "name": "stdout"
        }
      ]
    },
    {
      "cell_type": "markdown",
      "metadata": {
        "_cell_guid": "934444aa-0a22-4b60-b363-c4af3ab8ffe9",
        "_uuid": "ce9fa83195b843375a102593ee1ece0b9efdad97",
        "id": "4xqFIpiLajcU",
        "colab_type": "text"
      },
      "source": [
        "# Correlation of features"
      ]
    },
    {
      "cell_type": "code",
      "metadata": {
        "_cell_guid": "a575fa45-aa54-42d8-bc41-7901109b0a30",
        "_uuid": "c79fd2aee5021d4f09523411513e43220bede053",
        "id": "6qEqhow2ajcX",
        "colab_type": "code",
        "colab": {
          "base_uri": "https://localhost:8080/",
          "height": 646
        },
        "outputId": "3e9e680c-cdac-4ec9-d0c0-c8f3a552adaf"
      },
      "source": [
        "df_corr = df.corr() \n",
        "plt.figure(figsize=(15,10))\n",
        "seaborn.heatmap(df_corr) \n",
        "seaborn.set(font_scale=2,style='white')\n",
        "plt.title('Heatmap correlation')\n",
        "plt.show()"
      ],
      "execution_count": 15,
      "outputs": [
        {
          "output_type": "display_data",
          "data": {
            "image/png": "[encoded data removed]",
            "text/plain": [
              "<Figure size 1080x720 with 2 Axes>"
            ]
          },
          "metadata": {
            "tags": []
          }
        }
      ]
    },
    {
      "cell_type": "code",
      "metadata": {
        "_cell_guid": "513071fd-e5e9-4ad5-a45a-bfcfa9376cdc",
        "_uuid": "f5b17abf4e8a26f4f63f4379b1d0b2822b5a3c85",
        "id": "jf-uDSEzajck",
        "colab_type": "code",
        "colab": {
          "base_uri": "https://localhost:8080/",
          "height": 1000
        },
        "outputId": "145549c8-f1c9-48ed-9254-a87f4e98cdf0"
      },
      "source": [
        "rank = df_corr['Class'] # Retrieving the correlation coefficients per feature \n",
        "df_rank = pd.DataFrame(rank) \n",
        "df_rank = np.abs(df_rank).sort_values(by='Class',ascending=False) # Ranking the absolute values of the coefficients                                     \n",
        "df_rank.dropna(inplace=True) \n",
        "df_rank"
      ],
      "execution_count": 18,
      "outputs": [
        {
          "output_type": "execute_result",
          "data": {
            "text/html": [
              "<div>\n",
              "<style scoped>\n",
              "    .dataframe tbody tr th:only-of-type {\n",
              "        vertical-align: middle;\n",
              "    }\n",
              "\n",
              "    .dataframe tbody tr th {\n",
              "        vertical-align: top;\n",
              "    }\n",
              "\n",
              "    .dataframe thead th {\n",
              "        text-align: right;\n",
              "    }\n",
              "</style>\n",
              "<table border=\"1\" class=\"dataframe\">\n",
              "  <thead>\n",
              "    <tr style=\"text-align: right;\">\n",
              "      <th></th>\n",
              "      <th>Class</th>\n",
              "    </tr>\n",
              "  </thead>\n",
              "  <tbody>\n",
              "    <tr>\n",
              "      <th>Class</th>\n",
              "      <td>1.000000</td>\n",
              "    </tr>\n",
              "    <tr>\n",
              "      <th>V17</th>\n",
              "      <td>0.398842</td>\n",
              "    </tr>\n",
              "    <tr>\n",
              "      <th>V3</th>\n",
              "      <td>0.392900</td>\n",
              "    </tr>\n",
              "    <tr>\n",
              "      <th>V14</th>\n",
              "      <td>0.384703</td>\n",
              "    </tr>\n",
              "    <tr>\n",
              "      <th>V7</th>\n",
              "      <td>0.308902</td>\n",
              "    </tr>\n",
              "    <tr>\n",
              "      <th>V10</th>\n",
              "      <td>0.299232</td>\n",
              "    </tr>\n",
              "    <tr>\n",
              "      <th>V12</th>\n",
              "      <td>0.291112</td>\n",
              "    </tr>\n",
              "    <tr>\n",
              "      <th>V16</th>\n",
              "      <td>0.271283</td>\n",
              "    </tr>\n",
              "    <tr>\n",
              "      <th>V11</th>\n",
              "      <td>0.227832</td>\n",
              "    </tr>\n",
              "    <tr>\n",
              "      <th>V4</th>\n",
              "      <td>0.207183</td>\n",
              "    </tr>\n",
              "    <tr>\n",
              "      <th>V1</th>\n",
              "      <td>0.206502</td>\n",
              "    </tr>\n",
              "    <tr>\n",
              "      <th>V5</th>\n",
              "      <td>0.191200</td>\n",
              "    </tr>\n",
              "    <tr>\n",
              "      <th>V2</th>\n",
              "      <td>0.183834</td>\n",
              "    </tr>\n",
              "    <tr>\n",
              "      <th>V18</th>\n",
              "      <td>0.163768</td>\n",
              "    </tr>\n",
              "    <tr>\n",
              "      <th>V8</th>\n",
              "      <td>0.158560</td>\n",
              "    </tr>\n",
              "    <tr>\n",
              "      <th>V9</th>\n",
              "      <td>0.130884</td>\n",
              "    </tr>\n",
              "    <tr>\n",
              "      <th>V27</th>\n",
              "      <td>0.106143</td>\n",
              "    </tr>\n",
              "    <tr>\n",
              "      <th>V6</th>\n",
              "      <td>0.092680</td>\n",
              "    </tr>\n",
              "    <tr>\n",
              "      <th>V20</th>\n",
              "      <td>0.045686</td>\n",
              "    </tr>\n",
              "    <tr>\n",
              "      <th>V21</th>\n",
              "      <td>0.044748</td>\n",
              "    </tr>\n",
              "    <tr>\n",
              "      <th>V19</th>\n",
              "      <td>0.032524</td>\n",
              "    </tr>\n",
              "    <tr>\n",
              "      <th>V23</th>\n",
              "      <td>0.028028</td>\n",
              "    </tr>\n",
              "    <tr>\n",
              "      <th>V24</th>\n",
              "      <td>0.020491</td>\n",
              "    </tr>\n",
              "    <tr>\n",
              "      <th>Time</th>\n",
              "      <td>0.019755</td>\n",
              "    </tr>\n",
              "    <tr>\n",
              "      <th>V25</th>\n",
              "      <td>0.019111</td>\n",
              "    </tr>\n",
              "    <tr>\n",
              "      <th>V22</th>\n",
              "      <td>0.018731</td>\n",
              "    </tr>\n",
              "    <tr>\n",
              "      <th>V26</th>\n",
              "      <td>0.015542</td>\n",
              "    </tr>\n",
              "    <tr>\n",
              "      <th>V28</th>\n",
              "      <td>0.014158</td>\n",
              "    </tr>\n",
              "    <tr>\n",
              "      <th>V13</th>\n",
              "      <td>0.006804</td>\n",
              "    </tr>\n",
              "    <tr>\n",
              "      <th>V15</th>\n",
              "      <td>0.006193</td>\n",
              "    </tr>\n",
              "    <tr>\n",
              "      <th>Amount</th>\n",
              "      <td>0.002092</td>\n",
              "    </tr>\n",
              "  </tbody>\n",
              "</table>\n",
              "</div>"
            ],
            "text/plain": [
              "           Class\n",
              "Class   1.000000\n",
              "V17     0.398842\n",
              "V3      0.392900\n",
              "V14     0.384703\n",
              "V7      0.308902\n",
              "V10     0.299232\n",
              "V12     0.291112\n",
              "V16     0.271283\n",
              "V11     0.227832\n",
              "V4      0.207183\n",
              "V1      0.206502\n",
              "V5      0.191200\n",
              "V2      0.183834\n",
              "V18     0.163768\n",
              "V8      0.158560\n",
              "V9      0.130884\n",
              "V27     0.106143\n",
              "V6      0.092680\n",
              "V20     0.045686\n",
              "V21     0.044748\n",
              "V19     0.032524\n",
              "V23     0.028028\n",
              "V24     0.020491\n",
              "Time    0.019755\n",
              "V25     0.019111\n",
              "V22     0.018731\n",
              "V26     0.015542\n",
              "V28     0.014158\n",
              "V13     0.006804\n",
              "V15     0.006193\n",
              "Amount  0.002092"
            ]
          },
          "metadata": {
            "tags": []
          },
          "execution_count": 18
        }
      ]
    },
    {
      "cell_type": "markdown",
      "metadata": {
        "_cell_guid": "00e91ae9-d53a-40af-a48a-095a4b67dff9",
        "_uuid": "5a154f92f11ecfd72ad4eb2406ead5c24a9d00e3",
        "id": "LBnn8xGGajcq",
        "colab_type": "text"
      },
      "source": [
        "# Data Selection"
      ]
    },
    {
      "cell_type": "markdown",
      "metadata": {
        "_cell_guid": "e08a9f1e-090b-402d-b5a3-05ece4881a60",
        "_uuid": "e109c99ad8ae57199c62806c2d5cedb3aa481c41",
        "id": "eKX91xkqajcy",
        "colab_type": "text"
      },
      "source": [
        "UNDERSAMPLING"
      ]
    },
    {
      "cell_type": "markdown",
      "metadata": {
        "id": "UAvF1-z7dxAu",
        "colab_type": "text"
      },
      "source": [
        "# We seperate the data in two groups \n",
        "\n",
        "# Training data and Testing data"
      ]
    },
    {
      "cell_type": "code",
      "metadata": {
        "_cell_guid": "679f5dd1-5665-4de2-942b-6ac95ff1a02f",
        "_uuid": "d5b23951407345e6a89ca312967e582c66e11af3",
        "id": "RzIbIFt-ajc0",
        "colab_type": "code",
        "colab": {
          "base_uri": "https://localhost:8080/",
          "height": 35
        },
        "outputId": "df5c1ecc-5edc-4556-9e45-afdb1130b279"
      },
      "source": [
        "df_train_all = df[0:20000] # We cut in two the original dataset\n",
        "df_train_1 = df_train_all[df_train_all['Class'] == 1] # We seperate the data which are the frauds and the no frauds\n",
        "df_train_0 = df_train_all[df_train_all['Class'] == 0]\n",
        "print('In this dataset, we have ' + str(len(df_train_1)) +\" frauds so we need to take a similar number of non-fraud\")\n",
        "\n",
        "df_sample=df_train_0.sample(100)    # total of 104 frauds so we take a similar number of no frauds. We just take 100 cuz there may be less than 104 in first 20000 accounts\n",
        "df_train = df_train_1.append(df_sample) # combine frauds and no frauds where it's kinda equal in number\n",
        "df_train = df_train.sample(frac=1) # Then we mix our dataset"
      ],
      "execution_count": 22,
      "outputs": [
        {
          "output_type": "stream",
          "text": [
            "In this dataset, we have 85 frauds so we need to take a similar number of non-fraud\n"
          ],
          "name": "stdout"
        }
      ]
    },
    {
      "cell_type": "code",
      "metadata": {
        "_cell_guid": "36f77663-2b2a-412f-a759-0fd3a0bf06ab",
        "_uuid": "d9707da7dc04b2a415608f2833dd5d732dd98925",
        "id": "8Ut6LTXsajc5",
        "colab_type": "code",
        "colab": {}
      },
      "source": [
        "X_train = df_train.drop(['Time', 'Class'],axis=1) # We drop the features Time and the Class \n",
        "y_train = df_train['Class'] \n",
        "X_train = np.asarray(X_train)\n",
        "y_train = np.asarray(y_train)"
      ],
      "execution_count": 0,
      "outputs": []
    },
    {
      "cell_type": "code",
      "metadata": {
        "_cell_guid": "d7c350a4-6874-46b8-b699-4c27aa42dade",
        "_uuid": "975a023dc24a60832b3a670aecf2dbe3b9390183",
        "id": "r6oRmcJPajc_",
        "colab_type": "code",
        "colab": {}
      },
      "source": [
        "df_test_all = df[20000:]\n",
        "\n",
        "X_test_all = df_test_all.drop(['Time', 'Class'],axis=1)\n",
        "y_test_all = df_test_all['Class']\n",
        "X_test_all = np.asarray(X_test_all)\n",
        "y_test_all = np.asarray(y_test_all)"
      ],
      "execution_count": 0,
      "outputs": []
    },
    {
      "cell_type": "code",
      "metadata": {
        "_cell_guid": "d7246290-1ada-4be9-87a3-833620d23e04",
        "_uuid": "274f5e99f592cdc487e39eb60419a17a1cada5fe",
        "id": "JBc0cbLAajdD",
        "colab_type": "code",
        "colab": {}
      },
      "source": [
        "X_train_rank = df_train[df_rank.index[1:11]] # We take the first ten ranked features\n",
        "X_train_rank = np.asarray(X_train_rank)"
      ],
      "execution_count": 0,
      "outputs": []
    },
    {
      "cell_type": "code",
      "metadata": {
        "_cell_guid": "1c9addbe-d94c-44e8-84a9-1afdd13291be",
        "_uuid": "7a28465f8d7a4577ca6f4d1eb1f372a87da87c63",
        "id": "QFY9wRTXajdI",
        "colab_type": "code",
        "colab": {}
      },
      "source": [
        "X_test_all_rank = df_test_all[df_rank.index[1:11]]\n",
        "X_test_all_rank = np.asarray(X_test_all_rank)\n",
        "y_test_all = np.asarray(y_test_all)"
      ],
      "execution_count": 0,
      "outputs": []
    },
    {
      "cell_type": "markdown",
      "metadata": {
        "_cell_guid": "c54c8f9f-9301-4a96-9c8b-1845946187ff",
        "_uuid": "a6896c291abc000d9d642fcc65bb93d45b118236",
        "id": "lWENmH4hajdO",
        "colab_type": "text"
      },
      "source": [
        "# Confusion Matrix"
      ]
    },
    {
      "cell_type": "code",
      "metadata": {
        "_cell_guid": "e298b2fd-6569-4e38-97b1-227a0960e4fe",
        "_uuid": "55d1987b1b3963fb9ca5fd1142faae095dfa338b",
        "id": "5yJ9dRkOajdS",
        "colab_type": "code",
        "colab": {}
      },
      "source": [
        "class_names=np.array(['0','1']) "
      ],
      "execution_count": 0,
      "outputs": []
    },
    {
      "cell_type": "code",
      "metadata": {
        "_cell_guid": "c57ed880-9e78-4620-9158-bfe626bf75f6",
        "_uuid": "a484397df965faf0e489e17a7e0b0ccf36c8bf84",
        "id": "fcdl0rngajdW",
        "colab_type": "code",
        "colab": {}
      },
      "source": [
        "# Function to plot the confusion Matrix\n",
        "def plot_confusion_matrix(cm, classes,\n",
        "                          title='Confusion matrix',\n",
        "                          cmap=plt.cm.Blues):\n",
        "    \n",
        "    plt.imshow(cm, interpolation='nearest', cmap=cmap)\n",
        "    plt.title(title)\n",
        "    plt.colorbar()\n",
        "    tick_marks = np.arange(len(classes))\n",
        "    plt.xticks(tick_marks, classes, rotation=45)\n",
        "    plt.yticks(tick_marks, classes)\n",
        "\n",
        "    fmt = 'd' \n",
        "    thresh = cm.max() / 2.\n",
        "    for i, j in itertools.product(range(cm.shape[0]), range(cm.shape[1])):\n",
        "        plt.text(j, i, format(cm[i, j], fmt),\n",
        "                 horizontalalignment=\"center\",\n",
        "                 color=\"white\" if cm[i, j] > thresh else \"black\")\n",
        "\n",
        "    plt.tight_layout()\n",
        "    plt.ylabel('True label')\n",
        "    plt.xlabel('Predicted label')"
      ],
      "execution_count": 0,
      "outputs": []
    },
    {
      "cell_type": "markdown",
      "metadata": {
        "_cell_guid": "f7de7e6f-e51d-4e83-9d4e-6b0abdd2c726",
        "_uuid": "95ccdb3d1da9c590cb7b984f7f7a3151c316509c",
        "id": "DCPsPAqhajdZ",
        "colab_type": "text"
      },
      "source": [
        "# Model Selection"
      ]
    },
    {
      "cell_type": "markdown",
      "metadata": {
        "_cell_guid": "08c5814b-f154-476b-a91b-09682911a7fc",
        "scrolled": true,
        "_uuid": "940007266bccc4c732bfe0d990e7307eddb53293",
        "id": "RHwR7W7tajda",
        "colab_type": "text"
      },
      "source": [
        "So now, we'll use a SVM model classifier, with the scikit-learn library."
      ]
    },
    {
      "cell_type": "code",
      "metadata": {
        "_cell_guid": "1402594d-a2bf-4bef-a4b1-ffbada37e8b6",
        "_uuid": "54b464be3bacc3a8730ef22a44de83979a541952",
        "id": "kDhzlxctajda",
        "colab_type": "code",
        "colab": {}
      },
      "source": [
        "classifier = svm.SVC(kernel='linear') # We set a SVM classifier(Kernel = Radial Basis Function)"
      ],
      "execution_count": 0,
      "outputs": []
    },
    {
      "cell_type": "code",
      "metadata": {
        "_cell_guid": "671a5ed5-1103-4dd7-b7ef-f4959320b9b8",
        "_uuid": "ae95b7f9abb4c55f97a7b0e844966d766acd14e1",
        "id": "7eW8hjQmajde",
        "colab_type": "code",
        "colab": {
          "base_uri": "https://localhost:8080/",
          "height": 90
        },
        "outputId": "8f7b1b80-cf0c-47a1-afdf-c8d16943ee30"
      },
      "source": [
        "classifier.fit(X_train, y_train) # Training"
      ],
      "execution_count": 30,
      "outputs": [
        {
          "output_type": "execute_result",
          "data": {
            "text/plain": [
              "SVC(C=1.0, cache_size=200, class_weight=None, coef0=0.0,\n",
              "    decision_function_shape='ovr', degree=3, gamma='auto_deprecated',\n",
              "    kernel='linear', max_iter=-1, probability=False, random_state=None,\n",
              "    shrinking=True, tol=0.001, verbose=False)"
            ]
          },
          "metadata": {
            "tags": []
          },
          "execution_count": 30
        }
      ]
    },
    {
      "cell_type": "markdown",
      "metadata": {
        "_cell_guid": "33fd5429-184a-40ac-9b4f-cc66300eb75d",
        "_uuid": "06c6624cc3199d8c61aa462a1ac5daea1af5f044",
        "id": "Xq8GnkxKajdh",
        "colab_type": "text"
      },
      "source": [
        "# Testing the model"
      ]
    },
    {
      "cell_type": "code",
      "metadata": {
        "_cell_guid": "b7f42a0d-5dc2-482e-83dd-95be0b709fae",
        "_uuid": "06c4a00a2aeb9989135ef954ade5bf1dd750f8ce",
        "id": "J3-ZacWwajdj",
        "colab_type": "code",
        "colab": {}
      },
      "source": [
        "prediction_SVM_all = classifier.predict(X_test_all) #Predictions"
      ],
      "execution_count": 0,
      "outputs": []
    },
    {
      "cell_type": "code",
      "metadata": {
        "_cell_guid": "5558cbc6-e22c-4748-8640-35cd43358d1c",
        "_uuid": "cf58f6438e736b63903773caf38cd364a73178d4",
        "id": "PWSp-bfZajdp",
        "colab_type": "code",
        "colab": {
          "base_uri": "https://localhost:8080/",
          "height": 295
        },
        "outputId": "8e210a92-6e62-4b62-d70b-478c24b51637"
      },
      "source": [
        "cm = confusion_matrix(y_test_all, prediction_SVM_all)\n",
        "plot_confusion_matrix(cm,class_names)"
      ],
      "execution_count": 32,
      "outputs": [
        {
          "output_type": "display_data",
          "data": {
            "image/png": "[encoded data removed]",
            "text/plain": [
              "<Figure size 432x288 with 2 Axes>"
            ]
          },
          "metadata": {
            "tags": []
          }
        }
      ]
    },
    {
      "cell_type": "markdown",
      "metadata": {
        "_cell_guid": "fcc81707-fc91-4a66-945b-93fb7423dfcd",
        "_uuid": "9866599a18a5ff8286d8fac8ce2dd7213ae2d310",
        "id": "MC75tf1pajdr",
        "colab_type": "text"
      },
      "source": [
        "In this case we are gonna try to minimize the number of errors in our prediction results. Errors are on the anti-diagonal of the confusion matrix.  But we can infer that being wrong about an actual fraud is far worse than being wrong about a non-fraud transaction. \n",
        "\n",
        "That is why  using the accuracy as only classification criterion could be considered unthoughtful. \n",
        "During the remaining part of this study our criterion will consider precision on the real fraud 4 times more important than the general accuracy.\n",
        "Even though the final tested result is accuracy."
      ]
    },
    {
      "cell_type": "code",
      "metadata": {
        "_cell_guid": "21cde17a-738a-4c75-a6b3-16b4c055188b",
        "_uuid": "7000a8cec37987f50f8e398e48894c5ece0a7470",
        "id": "_gEZuvPjajdt",
        "colab_type": "code",
        "colab": {
          "base_uri": "https://localhost:8080/",
          "height": 35
        },
        "outputId": "2b15c6c5-c85a-43f7-d32b-cf564283b8e6"
      },
      "source": [
        "print('Our criterion give a result of ' \n",
        "      + str( ( (cm[0][0]+cm[1][1]) / (sum(cm[0]) + sum(cm[1])) + 4 * cm[1][1]/(cm[1][0]+cm[1][1])) / 5))"
      ],
      "execution_count": 33,
      "outputs": [
        {
          "output_type": "stream",
          "text": [
            "Our criterion give a result of 0.8701514240535666\n"
          ],
          "name": "stdout"
        }
      ]
    },
    {
      "cell_type": "code",
      "metadata": {
        "_cell_guid": "08447323-4ed7-4e29-a3c1-c86682ff63f0",
        "_uuid": "7c7bb0d2cfffdbdbe10df915a429c88e36a60957",
        "id": "Dk5u4HcDajdu",
        "colab_type": "code",
        "colab": {
          "base_uri": "https://localhost:8080/",
          "height": 90
        },
        "outputId": "ca4c7297-a62f-4340-b56c-98c8bfbc3d90"
      },
      "source": [
        "print('We have detected ' + str(cm[1][1]) + ' frauds / ' + str(cm[1][1]+cm[1][0]) + ' total frauds.')\n",
        "print('\\nSo, the probability to detect a fraud is ' + str(cm[1][1]/(cm[1][1]+cm[1][0])))\n",
        "print(\"the accuracy is : \"+str((cm[0][0]+cm[1][1]) / (sum(cm[0]) + sum(cm[1]))))"
      ],
      "execution_count": 34,
      "outputs": [
        {
          "output_type": "stream",
          "text": [
            "We have detected 16 frauds / 19 total frauds.\n",
            "\n",
            "So, the probability to detect a fraud is 0.8421052631578947\n",
            "the accuracy is : 0.9823360676362538\n"
          ],
          "name": "stdout"
        }
      ]
    },
    {
      "cell_type": "markdown",
      "metadata": {
        "_cell_guid": "087b8a01-6a00-4bdd-ade9-08a3b5cd198b",
        "_uuid": "13428d627950722f5c2dab060549bdd519a2981a",
        "id": "89pq4z0xajdw",
        "colab_type": "text"
      },
      "source": [
        " # Models Rank"
      ]
    },
    {
      "cell_type": "markdown",
      "metadata": {
        "_cell_guid": "37124bd8-5865-4ddc-b04f-f6d899340968",
        "_uuid": "7bfed5e996206e6863601fcaa09761baf68fb361",
        "id": "_bxF8OTQajdx",
        "colab_type": "text"
      },
      "source": [
        "There is a need to compute the fit method again, as the dimension of the tuples to predict went from 29 to 10 because of the dimension reduction"
      ]
    },
    {
      "cell_type": "code",
      "metadata": {
        "_cell_guid": "5e73fef0-c4d4-450b-9961-e841767e0342",
        "_uuid": "b4247cb1dd4d7af91421d01f7067898799fdbfd8",
        "id": "ffWTyxETajdy",
        "colab_type": "code",
        "colab": {}
      },
      "source": [
        "classifier.fit(X_train_rank, y_train) \n",
        "prediction_SVM = classifier.predict(X_test_all_rank) "
      ],
      "execution_count": 0,
      "outputs": []
    },
    {
      "cell_type": "code",
      "metadata": {
        "_cell_guid": "e84710c9-59fe-4205-8c05-e989d5942712",
        "_uuid": "bb4defbee6e8ebaff98eebaff7701503d2b65434",
        "id": "IVt0SX20ajd1",
        "colab_type": "code",
        "colab": {
          "base_uri": "https://localhost:8080/",
          "height": 295
        },
        "outputId": "d289a589-06fb-44c7-c3f9-a37830195beb"
      },
      "source": [
        "cm = confusion_matrix(y_test_all, prediction_SVM)\n",
        "plot_confusion_matrix(cm,class_names)"
      ],
      "execution_count": 36,
      "outputs": [
        {
          "output_type": "display_data",
          "data": {
            "image/png": "[encoded data removed]",
            "text/plain": [
              "<Figure size 432x288 with 2 Axes>"
            ]
          },
          "metadata": {
            "tags": []
          }
        }
      ]
    },
    {
      "cell_type": "code",
      "metadata": {
        "_cell_guid": "d310bf29-6673-4882-8387-e4b6fb53ee86",
        "_uuid": "a0d4e792c37722f84d9b55432b286bfcafec1293",
        "id": "zzRu7ASGajd3",
        "colab_type": "code",
        "colab": {
          "base_uri": "https://localhost:8080/",
          "height": 35
        },
        "outputId": "701e9751-0c09-4716-fd50-4784609eb4eb"
      },
      "source": [
        "print('Our criterion give a result of ' \n",
        "      + str( ( (cm[0][0]+cm[1][1]) / (sum(cm[0]) + sum(cm[1])) + 4 * cm[1][1]/(cm[1][0]+cm[1][1])) / 5))"
      ],
      "execution_count": 37,
      "outputs": [
        {
          "output_type": "stream",
          "text": [
            "Our criterion give a result of 0.8713390844632087\n"
          ],
          "name": "stdout"
        }
      ]
    },
    {
      "cell_type": "code",
      "metadata": {
        "_cell_guid": "9fb3cb24-8f70-423c-89c7-aa91d15172ad",
        "_uuid": "f39c12ef5d8c91185b1873483fd93e26c13c3cab",
        "id": "sjNM_Hoeajd8",
        "colab_type": "code",
        "colab": {
          "base_uri": "https://localhost:8080/",
          "height": 90
        },
        "outputId": "1cf95b8f-0cdc-4667-9fc9-be3136bd37e9"
      },
      "source": [
        "print('We have detected ' + str(cm[1][1]) + ' frauds / ' + str(cm[1][1]+cm[1][0]) + ' total frauds.')\n",
        "print('\\nSo, the probability to detect a fraud is ' + str(cm[1][1]/(cm[1][1]+cm[1][0])))\n",
        "print(\"the accuracy is : \"+str((cm[0][0]+cm[1][1]) / (sum(cm[0]) + sum(cm[1]))))"
      ],
      "execution_count": 38,
      "outputs": [
        {
          "output_type": "stream",
          "text": [
            "We have detected 16 frauds / 19 total frauds.\n",
            "\n",
            "So, the probability to detect a fraud is 0.8421052631578947\n",
            "the accuracy is : 0.9882743696844648\n"
          ],
          "name": "stdout"
        }
      ]
    },
    {
      "cell_type": "markdown",
      "metadata": {
        "_cell_guid": "74782013-18d1-4afb-8d3c-67dc8cae17d2",
        "_uuid": "6b8d59c2aa9b0a07112a405d063120dc0e20e338",
        "id": "RFKdcgzZajd-",
        "colab_type": "text"
      },
      "source": [
        "We can see that the study using the reduced data is far from unrelevant, which means that the last step of the previously computed PCA could have been done in a more efficient way. Indeed one of the main question we have with the PCA once we calculated the principals components direction, is how many of this component are we gonna keep. This means that some of the 30 dimensions are do not discriminate classes that much."
      ]
    },
    {
      "cell_type": "markdown",
      "metadata": {
        "_cell_guid": "66ca64cd-078d-4a1c-8ecd-d85a247ef5f3",
        "_uuid": "a38206000a28bcc2baf07d0d8e10f7eb1256f993",
        "id": "GUHvtpd3ajd_",
        "colab_type": "text"
      },
      "source": [
        "# Re-balanced class weigh :"
      ]
    },
    {
      "cell_type": "markdown",
      "metadata": {
        "_cell_guid": "10579138-58f9-41db-b5a7-25f6c4741900",
        "_uuid": "6cd3881e06f80ba87e4377c525572db1585e1c84",
        "id": "Nlzq_xLRajeB",
        "colab_type": "text"
      },
      "source": [
        "In this previously used SVM model, the weight of each class was the same, which means that missing a fraud is as bad as misjudging a non-fraud. The objective, for a bank, is to maximize the number of detected frauds! Even if it means considering more non-fraud tuple as fraudulent operation. So, we need to minimize the False positives : the number of no detected frauds.\n",
        "\n",
        "Indeed, by modifying the class_weight parameter, we can chose which class to give more importance during the training phase. In this case, the class_1 which describes the fraudulent operations will be considered more important than the class_0 (non-fraud operation). However, in this case we will give more importance to the class_0 due to the large number of misclassed non-fraud operation. Of course the goal is to lose as little effective fraud as possible in the process.\n"
      ]
    },
    {
      "cell_type": "code",
      "metadata": {
        "_cell_guid": "33f60bc0-38c6-4ee7-a348-e2254bca727c",
        "_uuid": "5c36459b8b55ab20a57097d820f7f24a856c20f7",
        "id": "L2hcahwcajeB",
        "colab_type": "code",
        "colab": {}
      },
      "source": [
        "classifier_b = svm.SVC(kernel='linear',class_weight={0:0.60, 1:0.40})"
      ],
      "execution_count": 0,
      "outputs": []
    },
    {
      "cell_type": "code",
      "metadata": {
        "_cell_guid": "07b6b2e3-4cd2-4202-b2a9-3d22edadf650",
        "_uuid": "4b29ebf3f9fd2e591498e747d453297ccc9d95f0",
        "id": "buL44mOmajeE",
        "colab_type": "code",
        "colab": {
          "base_uri": "https://localhost:8080/",
          "height": 90
        },
        "outputId": "97d9b757-e66c-430f-9422-2ab4440b091c"
      },
      "source": [
        "classifier_b.fit(X_train, y_train) # Then we train our model, with our balanced data train."
      ],
      "execution_count": 40,
      "outputs": [
        {
          "output_type": "execute_result",
          "data": {
            "text/plain": [
              "SVC(C=1.0, cache_size=200, class_weight={0: 0.6, 1: 0.4}, coef0=0.0,\n",
              "    decision_function_shape='ovr', degree=3, gamma='auto_deprecated',\n",
              "    kernel='linear', max_iter=-1, probability=False, random_state=None,\n",
              "    shrinking=True, tol=0.001, verbose=False)"
            ]
          },
          "metadata": {
            "tags": []
          },
          "execution_count": 40
        }
      ]
    },
    {
      "cell_type": "markdown",
      "metadata": {
        "_cell_guid": "711f7353-4f8d-494e-a2e3-e24c69da17a8",
        "_uuid": "f441734ba20be6e81ead1f4fb1196c09095cc4f6",
        "id": "rucpYjjqajeF",
        "colab_type": "text"
      },
      "source": [
        "# Testing the model"
      ]
    },
    {
      "cell_type": "code",
      "metadata": {
        "_cell_guid": "63406a9e-e7f7-4bbe-9945-55daf2c384a8",
        "_uuid": "c2b29f36198561711dd23cdef243bd7d9b41bce7",
        "id": "CPS7sPgCajeG",
        "colab_type": "code",
        "colab": {}
      },
      "source": [
        "prediction_SVM_b_all = classifier_b.predict(X_test_all) #We predict all the data set."
      ],
      "execution_count": 0,
      "outputs": []
    },
    {
      "cell_type": "code",
      "metadata": {
        "_cell_guid": "42f417eb-5c5c-4d1d-af59-349d17d77f6f",
        "_uuid": "e462d0526a115a87d27f8a1c24bbb6fd3b9e9eeb",
        "id": "DiNojNhbajeJ",
        "colab_type": "code",
        "colab": {
          "base_uri": "https://localhost:8080/",
          "height": 295
        },
        "outputId": "4e0a320c-cf24-4140-d17b-1ea5e8468f61"
      },
      "source": [
        "cm = confusion_matrix(y_test_all, prediction_SVM_b_all)\n",
        "plot_confusion_matrix(cm,class_names)"
      ],
      "execution_count": 42,
      "outputs": [
        {
          "output_type": "display_data",
          "data": {
            "image/png": "[encoded data removed]",
            "text/plain": [
              "<Figure size 432x288 with 2 Axes>"
            ]
          },
          "metadata": {
            "tags": []
          }
        }
      ]
    },
    {
      "cell_type": "code",
      "metadata": {
        "_cell_guid": "9aa0594f-88da-4015-a712-c4e378d276c9",
        "_uuid": "5f80761a24cf70ac29bbf3650a7db0ae6c273600",
        "id": "5ERD4U8NajeL",
        "colab_type": "code",
        "colab": {
          "base_uri": "https://localhost:8080/",
          "height": 35
        },
        "outputId": "3c1c6881-6ffb-4751-a290-41532e184b35"
      },
      "source": [
        "print('Our criterion give a result of ' \n",
        "      + str( ( (cm[0][0]+cm[1][1]) / (sum(cm[0]) + sum(cm[1])) + 4 * cm[1][1]/(cm[1][0]+cm[1][1])) / 5))"
      ],
      "execution_count": 43,
      "outputs": [
        {
          "output_type": "stream",
          "text": [
            "Our criterion give a result of 0.8680780507960556\n"
          ],
          "name": "stdout"
        }
      ]
    },
    {
      "cell_type": "code",
      "metadata": {
        "_cell_guid": "d03a28ad-b9e1-4c2c-bed2-06308b1816cf",
        "_uuid": "3d674db8f4eeb8ed4a8583e3d5cd40f8561ae33d",
        "id": "Jev-i2ApajeS",
        "colab_type": "code",
        "colab": {
          "base_uri": "https://localhost:8080/",
          "height": 90
        },
        "outputId": "0da18f6c-fe26-4d67-d56b-d5580f1ef3c1"
      },
      "source": [
        "print('We have detected ' + str(cm[1][1]) + ' frauds / ' + str(cm[1][1]+cm[1][0]) + ' total frauds.')\n",
        "print('\\nSo, the probability to detect a fraud is ' + str(cm[1][1]/(cm[1][1]+cm[1][0])))\n",
        "print(\"the accuracy is : \"+str((cm[0][0]+cm[1][1]) / (sum(cm[0]) + sum(cm[1]))))"
      ],
      "execution_count": 44,
      "outputs": [
        {
          "output_type": "stream",
          "text": [
            "We have detected 16 frauds / 19 total frauds.\n",
            "\n",
            "So, the probability to detect a fraud is 0.8421052631578947\n",
            "the accuracy is : 0.9719692013486991\n"
          ],
          "name": "stdout"
        }
      ]
    },
    {
      "cell_type": "markdown",
      "metadata": {
        "_cell_guid": "7950e244-844f-418c-9898-2f06756dc125",
        "_uuid": "f31fdcb8899711ce15b5a0760eced5741a9e1d97",
        "id": "eGkmcv4GajeT",
        "colab_type": "text"
      },
      "source": [
        " # Models Rank"
      ]
    },
    {
      "cell_type": "code",
      "metadata": {
        "_cell_guid": "ef932b2b-72bf-47df-9157-ae3249665467",
        "_uuid": "9d241abdaded4809eafe7e2c885150e63f4ae4d0",
        "id": "SLiIUb08ajeU",
        "colab_type": "code",
        "colab": {}
      },
      "source": [
        "classifier_b.fit(X_train_rank, y_train) # Then we train our model, with our balanced data train.\n",
        "prediction_SVM = classifier_b.predict(X_test_all_rank) #And finally, we predict our data test."
      ],
      "execution_count": 0,
      "outputs": []
    },
    {
      "cell_type": "code",
      "metadata": {
        "_cell_guid": "a9ce5f16-08b3-4932-89ee-1ed934684482",
        "_uuid": "3e6542b40144dbef93f27144198299e9b7a84bbe",
        "id": "PrCesRuyajeZ",
        "colab_type": "code",
        "colab": {
          "base_uri": "https://localhost:8080/",
          "height": 295
        },
        "outputId": "a247745d-e03f-41b2-ae8a-c5b9491c6ccc"
      },
      "source": [
        "cm = confusion_matrix(y_test_all, prediction_SVM)\n",
        "plot_confusion_matrix(cm,class_names)"
      ],
      "execution_count": 46,
      "outputs": [
        {
          "output_type": "display_data",
          "data": {
            "image/png": "[encoded data removed]",
            "text/plain": [
              "<Figure size 432x288 with 2 Axes>"
            ]
          },
          "metadata": {
            "tags": []
          }
        }
      ]
    },
    {
      "cell_type": "code",
      "metadata": {
        "_cell_guid": "ff879d9e-b9c3-40b7-a9a6-dae5ce11a88e",
        "_uuid": "653485d7a5c7feb2052321b7a05b4415b63fdac8",
        "id": "Et6lYEvcajea",
        "colab_type": "code",
        "colab": {
          "base_uri": "https://localhost:8080/",
          "height": 35
        },
        "outputId": "4f6207fc-0ba8-4e94-d9b4-ef694a2016cb"
      },
      "source": [
        "print('Our criterion give a result of ' \n",
        "      + str( ( (cm[0][0]+cm[1][1]) / (sum(cm[0]) + sum(cm[1])) + 4 * cm[1][1]/(cm[1][0]+cm[1][1])) / 5))"
      ],
      "execution_count": 47,
      "outputs": [
        {
          "output_type": "stream",
          "text": [
            "Our criterion give a result of 0.871459863487918\n"
          ],
          "name": "stdout"
        }
      ]
    },
    {
      "cell_type": "code",
      "metadata": {
        "_cell_guid": "6aa458bb-3314-492b-b9c3-4d811c5a2db5",
        "_uuid": "725c2ff781e0a1c86eb160eeab0da9723aee91cc",
        "id": "o9ftEx5Rajec",
        "colab_type": "code",
        "colab": {
          "base_uri": "https://localhost:8080/",
          "height": 90
        },
        "outputId": "65a2af44-36f2-44c2-99d8-db8bc18e5e1b"
      },
      "source": [
        "print('We have detected ' + str(cm[1][1]) + ' frauds / ' + str(cm[1][1]+cm[1][0]) + ' total frauds.')\n",
        "print('\\nSo, the probability to detect a fraud is ' + str(cm[1][1]/(cm[1][1]+cm[1][0])))\n",
        "print(\"the accuracy is : \"+str((cm[0][0]+cm[1][1]) / (sum(cm[0]) + sum(cm[1]))))"
      ],
      "execution_count": 48,
      "outputs": [
        {
          "output_type": "stream",
          "text": [
            "We have detected 16 frauds / 19 total frauds.\n",
            "\n",
            "So, the probability to detect a fraud is 0.8421052631578947\n",
            "the accuracy is : 0.9888782648080117\n"
          ],
          "name": "stdout"
        }
      ]
    }
  ]
}