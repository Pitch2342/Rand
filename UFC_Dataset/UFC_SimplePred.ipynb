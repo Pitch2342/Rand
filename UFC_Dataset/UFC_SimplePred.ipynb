{
  "nbformat": 4,
  "nbformat_minor": 0,
  "metadata": {
    "colab": {
      "name": "UFC_SimplePred.ipynb",
      "provenance": []
    },
    "kernelspec": {
      "name": "python3",
      "display_name": "Python 3"
    }
  },
  "cells": [
    {
      "cell_type": "code",
      "metadata": {
        "id": "VktiTBEOlybT",
        "colab_type": "code",
        "colab": {
          "base_uri": "https://localhost:8080/",
          "height": 217
        },
        "outputId": "e9b5a807-73bb-427e-91ce-f403464ecddb"
      },
      "source": [
        "import pandas as pd\n",
        "fights = pd.read_csv('https://raw.githubusercontent.com/Pitch2342/Rand/master/UFC_Dataset/data.csv')\n",
        "fights\n",
        "#to find missing values\n",
        "fights.isnull().sum()\n",
        "#retain only  those columns or features having at least 4800 non na values \n",
        "fights.dropna(thresh=4800,inplace=True,axis=1)\n",
        "#filling missing values\n",
        "fights.fillna({'B_Height_cms':fights['B_Height_cms'].median(),\n",
        "               'B_Weight_lbs':fights['B_Weight_lbs'].median(),\n",
        "                'R_Reach_cms':fights['R_Reach_cms'].median(),\n",
        "                'R_Weight_lbs':fights['R_Weight_lbs'].median(),\n",
        "                 'B_age':fights['B_age'].median(),\n",
        "                'R_age':fights['R_age'].median(),\n",
        "                 'R_Height_cms':fights['R_Height_cms'].median()},inplace=True)\n",
        "import scipy.stats\n",
        "crosstab = pd.crosstab(fights['Winner'],fights['R_Stance'])\n",
        "chi = scipy.stats.chi2_contingency(crosstab)\n",
        "chi\n",
        "#R_stance should be dropped as it has no correlation with the output\n",
        "fights.drop(columns=['B_Stance','R_Stance'],inplace=True)\n",
        "\n",
        "# as herb dean is the most popular and more frequently occur in the referee column\n",
        "import numpy as np\n",
        "fights['Referee']= fights['Referee'].replace(np.NaN , 'Herb Dean')\n",
        "fights\n",
        "\n",
        "from sklearn.model_selection import train_test_split\n",
        "y = fights['Winner']\n",
        "fights.drop(columns='Winner',inplace=True)\n",
        "\n",
        "X_train,X_test,y_train,y_test = train_test_split(fights,y,test_size=0.3,random_state=42)\n",
        "\n",
        "#label encoding the categorical columns present in our train data\n",
        "from sklearn.preprocessing import LabelEncoder\n",
        "le=LabelEncoder()\n",
        "\n",
        "for col in X_train.columns.values:\n",
        "\n",
        "       if X_train[col].dtypes=='object':\n",
        "            data=X_train[col].append(X_train[col])\n",
        "            le.fit(data.values)\n",
        "            X_train[col]=le.fit_transform(X_train[col])\n",
        "            \n",
        "#label encoding the categorical columns present in our test data\n",
        "from sklearn.preprocessing import LabelEncoder\n",
        "le=LabelEncoder()\n",
        "\n",
        "for col in X_test.columns.values:\n",
        "\n",
        "       if X_test[col].dtypes=='object':\n",
        "            data=X_test[col].append(X_test[col])\n",
        "            le.fit(data.values)\n",
        "            X_test[col]=le.transform(X_test[col])\n",
        "\n",
        "# scaling our data to normalize the influence of all the features with respect to the output\n",
        "from sklearn.preprocessing import MinMaxScaler\n",
        "minmaxscaling = MinMaxScaler()\n",
        "X_train_scaled = minmaxscaling.fit_transform(X_train)\n",
        "X_test_scaled = minmaxscaling.transform(X_test)\n",
        "\n",
        "from sklearn.metrics import confusion_matrix,balanced_accuracy_score,accuracy_score,classification_report\n",
        "\n",
        "\n",
        "#using adaptive boosting technique\n",
        "from sklearn.ensemble import AdaBoostClassifier\n",
        "ada = AdaBoostClassifier(n_estimators=130,learning_rate=.65)\n",
        "ada.fit(X_train_scaled,y_train)\n",
        "predicted_ada = ada.predict(X_test_scaled)\n",
        "predicted_ada\n",
        "\n",
        "#checking score\n",
        "print(\"Accuracy : {}\".format(accuracy_score(y_test,predicted_ada)*100))"
      ],
      "execution_count": 4,
      "outputs": [
        {
          "output_type": "stream",
          "text": [
            "/usr/local/lib/python3.6/dist-packages/ipykernel_launcher.py:43: SettingWithCopyWarning: \n",
            "A value is trying to be set on a copy of a slice from a DataFrame.\n",
            "Try using .loc[row_indexer,col_indexer] = value instead\n",
            "\n",
            "See the caveats in the documentation: http://pandas.pydata.org/pandas-docs/stable/user_guide/indexing.html#returning-a-view-versus-a-copy\n",
            "/usr/local/lib/python3.6/dist-packages/ipykernel_launcher.py:54: SettingWithCopyWarning: \n",
            "A value is trying to be set on a copy of a slice from a DataFrame.\n",
            "Try using .loc[row_indexer,col_indexer] = value instead\n",
            "\n",
            "See the caveats in the documentation: http://pandas.pydata.org/pandas-docs/stable/user_guide/indexing.html#returning-a-view-versus-a-copy\n"
          ],
          "name": "stderr"
        },
        {
          "output_type": "stream",
          "text": [
            "Accuracy : 67.16321243523316\n"
          ],
          "name": "stdout"
        }
      ]
    },
    {
      "cell_type": "code",
      "metadata": {
        "id": "-CF_Z172tauY",
        "colab_type": "code",
        "colab": {}
      },
      "source": [
        ""
      ],
      "execution_count": 0,
      "outputs": []
    }
  ]
}